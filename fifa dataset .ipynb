{
 "cells": [
  {
   "cell_type": "code",
   "execution_count": 1,
   "id": "5a0c03b8",
   "metadata": {},
   "outputs": [
    {
     "data": {
      "text/plain": [
       "<Figure size 500x500 with 0 Axes>"
      ]
     },
     "metadata": {},
     "output_type": "display_data"
    }
   ],
   "source": [
    "import numpy as np \n",
    "import pandas as pd # data processing, CSV file I/O (e.g. pd.read_csv)\n",
    "import matplotlib\n",
    "import matplotlib.pyplot as plt # Visualization\n",
    "fig = matplotlib.pyplot.gcf()\n",
    "fig.set_size_inches(5, 5)\n",
    "import seaborn as sns # Visualization\n",
    "sns.set(rc={'figure.figsize':(17.7,8.27)})\n",
    "\n",
    "from IPython.display import display, HTML # IPython notebook display\n",
    "\n",
    "import os\n",
    "\n",
    "import pandas as pd\n",
    "pd.set_option('display.max_rows', None)\n",
    "pd.set_option('display.max_columns', None)\n",
    "pd.set_option('display.width', None)"
   ]
  },
  {
   "cell_type": "code",
   "execution_count": 3,
   "id": "80c00d8b",
   "metadata": {},
   "outputs": [
    {
     "data": {
      "text/html": [
       "<div>\n",
       "<style scoped>\n",
       "    .dataframe tbody tr th:only-of-type {\n",
       "        vertical-align: middle;\n",
       "    }\n",
       "\n",
       "    .dataframe tbody tr th {\n",
       "        vertical-align: top;\n",
       "    }\n",
       "\n",
       "    .dataframe thead th {\n",
       "        text-align: right;\n",
       "    }\n",
       "</style>\n",
       "<table border=\"1\" class=\"dataframe\">\n",
       "  <thead>\n",
       "    <tr style=\"text-align: right;\">\n",
       "      <th></th>\n",
       "      <th>sofifa_id</th>\n",
       "      <th>player_url</th>\n",
       "      <th>short_name</th>\n",
       "      <th>long_name</th>\n",
       "      <th>age</th>\n",
       "      <th>dob</th>\n",
       "      <th>height_cm</th>\n",
       "      <th>weight_kg</th>\n",
       "      <th>nationality</th>\n",
       "      <th>club_name</th>\n",
       "      <th>league_name</th>\n",
       "      <th>league_rank</th>\n",
       "      <th>overall</th>\n",
       "      <th>potential</th>\n",
       "      <th>value_eur</th>\n",
       "      <th>wage_eur</th>\n",
       "      <th>player_positions</th>\n",
       "      <th>preferred_foot</th>\n",
       "      <th>international_reputation</th>\n",
       "      <th>weak_foot</th>\n",
       "      <th>skill_moves</th>\n",
       "      <th>work_rate</th>\n",
       "      <th>body_type</th>\n",
       "      <th>real_face</th>\n",
       "      <th>release_clause_eur</th>\n",
       "      <th>player_tags</th>\n",
       "      <th>team_position</th>\n",
       "      <th>team_jersey_number</th>\n",
       "      <th>loaned_from</th>\n",
       "      <th>joined</th>\n",
       "      <th>contract_valid_until</th>\n",
       "      <th>nation_position</th>\n",
       "      <th>nation_jersey_number</th>\n",
       "      <th>pace</th>\n",
       "      <th>shooting</th>\n",
       "      <th>passing</th>\n",
       "      <th>dribbling</th>\n",
       "      <th>defending</th>\n",
       "      <th>physic</th>\n",
       "      <th>gk_diving</th>\n",
       "      <th>gk_handling</th>\n",
       "      <th>gk_kicking</th>\n",
       "      <th>gk_reflexes</th>\n",
       "      <th>gk_speed</th>\n",
       "      <th>gk_positioning</th>\n",
       "      <th>player_traits</th>\n",
       "      <th>attacking_crossing</th>\n",
       "      <th>attacking_finishing</th>\n",
       "      <th>attacking_heading_accuracy</th>\n",
       "      <th>attacking_short_passing</th>\n",
       "      <th>attacking_volleys</th>\n",
       "      <th>skill_dribbling</th>\n",
       "      <th>skill_curve</th>\n",
       "      <th>skill_fk_accuracy</th>\n",
       "      <th>skill_long_passing</th>\n",
       "      <th>skill_ball_control</th>\n",
       "      <th>movement_acceleration</th>\n",
       "      <th>movement_sprint_speed</th>\n",
       "      <th>movement_agility</th>\n",
       "      <th>movement_reactions</th>\n",
       "      <th>movement_balance</th>\n",
       "      <th>power_shot_power</th>\n",
       "      <th>power_jumping</th>\n",
       "      <th>power_stamina</th>\n",
       "      <th>power_strength</th>\n",
       "      <th>power_long_shots</th>\n",
       "      <th>mentality_aggression</th>\n",
       "      <th>mentality_interceptions</th>\n",
       "      <th>mentality_positioning</th>\n",
       "      <th>mentality_vision</th>\n",
       "      <th>mentality_penalties</th>\n",
       "      <th>mentality_composure</th>\n",
       "      <th>defending_marking</th>\n",
       "      <th>defending_standing_tackle</th>\n",
       "      <th>defending_sliding_tackle</th>\n",
       "      <th>goalkeeping_diving</th>\n",
       "      <th>goalkeeping_handling</th>\n",
       "      <th>goalkeeping_kicking</th>\n",
       "      <th>goalkeeping_positioning</th>\n",
       "      <th>goalkeeping_reflexes</th>\n",
       "      <th>ls</th>\n",
       "      <th>st</th>\n",
       "      <th>rs</th>\n",
       "      <th>lw</th>\n",
       "      <th>lf</th>\n",
       "      <th>cf</th>\n",
       "      <th>rf</th>\n",
       "      <th>rw</th>\n",
       "      <th>lam</th>\n",
       "      <th>cam</th>\n",
       "      <th>ram</th>\n",
       "      <th>lm</th>\n",
       "      <th>lcm</th>\n",
       "      <th>cm</th>\n",
       "      <th>rcm</th>\n",
       "      <th>rm</th>\n",
       "      <th>lwb</th>\n",
       "      <th>ldm</th>\n",
       "      <th>cdm</th>\n",
       "      <th>rdm</th>\n",
       "      <th>rwb</th>\n",
       "      <th>lb</th>\n",
       "      <th>lcb</th>\n",
       "      <th>cb</th>\n",
       "      <th>rcb</th>\n",
       "      <th>rb</th>\n",
       "    </tr>\n",
       "  </thead>\n",
       "  <tbody>\n",
       "    <tr>\n",
       "      <th>0</th>\n",
       "      <td>158023</td>\n",
       "      <td>https://sofifa.com/player/158023/lionel-messi/...</td>\n",
       "      <td>L. Messi</td>\n",
       "      <td>Lionel Andrés Messi Cuccittini</td>\n",
       "      <td>33</td>\n",
       "      <td>1987-06-24</td>\n",
       "      <td>170</td>\n",
       "      <td>72</td>\n",
       "      <td>Argentina</td>\n",
       "      <td>FC Barcelona</td>\n",
       "      <td>Spain Primera Division</td>\n",
       "      <td>1.0</td>\n",
       "      <td>93</td>\n",
       "      <td>93</td>\n",
       "      <td>67500000</td>\n",
       "      <td>560000</td>\n",
       "      <td>RW, ST, CF</td>\n",
       "      <td>Left</td>\n",
       "      <td>5</td>\n",
       "      <td>4</td>\n",
       "      <td>4</td>\n",
       "      <td>Medium/Low</td>\n",
       "      <td>Messi</td>\n",
       "      <td>Yes</td>\n",
       "      <td>138400000.0</td>\n",
       "      <td>#Dribbler, #Distance Shooter, #FK Specialist, ...</td>\n",
       "      <td>CAM</td>\n",
       "      <td>10.0</td>\n",
       "      <td>NaN</td>\n",
       "      <td>2004-07-01</td>\n",
       "      <td>2021.0</td>\n",
       "      <td>RW</td>\n",
       "      <td>10.0</td>\n",
       "      <td>85.0</td>\n",
       "      <td>92.0</td>\n",
       "      <td>91.0</td>\n",
       "      <td>95.0</td>\n",
       "      <td>38.0</td>\n",
       "      <td>65.0</td>\n",
       "      <td>NaN</td>\n",
       "      <td>NaN</td>\n",
       "      <td>NaN</td>\n",
       "      <td>NaN</td>\n",
       "      <td>NaN</td>\n",
       "      <td>NaN</td>\n",
       "      <td>Finesse Shot, Long Shot Taker (AI), Speed Drib...</td>\n",
       "      <td>85</td>\n",
       "      <td>95</td>\n",
       "      <td>70</td>\n",
       "      <td>91</td>\n",
       "      <td>88</td>\n",
       "      <td>96</td>\n",
       "      <td>93</td>\n",
       "      <td>94</td>\n",
       "      <td>91</td>\n",
       "      <td>96</td>\n",
       "      <td>91</td>\n",
       "      <td>80</td>\n",
       "      <td>91</td>\n",
       "      <td>94</td>\n",
       "      <td>95</td>\n",
       "      <td>86</td>\n",
       "      <td>68</td>\n",
       "      <td>72</td>\n",
       "      <td>69</td>\n",
       "      <td>94</td>\n",
       "      <td>44</td>\n",
       "      <td>40</td>\n",
       "      <td>93</td>\n",
       "      <td>95</td>\n",
       "      <td>75</td>\n",
       "      <td>96</td>\n",
       "      <td>NaN</td>\n",
       "      <td>35</td>\n",
       "      <td>24</td>\n",
       "      <td>6</td>\n",
       "      <td>11</td>\n",
       "      <td>15</td>\n",
       "      <td>14</td>\n",
       "      <td>8</td>\n",
       "      <td>89+3</td>\n",
       "      <td>89+3</td>\n",
       "      <td>89+3</td>\n",
       "      <td>92+0</td>\n",
       "      <td>93+0</td>\n",
       "      <td>93+0</td>\n",
       "      <td>93+0</td>\n",
       "      <td>92+0</td>\n",
       "      <td>93+0</td>\n",
       "      <td>93+0</td>\n",
       "      <td>93+0</td>\n",
       "      <td>91+2</td>\n",
       "      <td>87+3</td>\n",
       "      <td>87+3</td>\n",
       "      <td>87+3</td>\n",
       "      <td>91+2</td>\n",
       "      <td>66+3</td>\n",
       "      <td>65+3</td>\n",
       "      <td>65+3</td>\n",
       "      <td>65+3</td>\n",
       "      <td>66+3</td>\n",
       "      <td>62+3</td>\n",
       "      <td>52+3</td>\n",
       "      <td>52+3</td>\n",
       "      <td>52+3</td>\n",
       "      <td>62+3</td>\n",
       "    </tr>\n",
       "    <tr>\n",
       "      <th>1</th>\n",
       "      <td>20801</td>\n",
       "      <td>https://sofifa.com/player/20801/c-ronaldo-dos-...</td>\n",
       "      <td>Cristiano Ronaldo</td>\n",
       "      <td>Cristiano Ronaldo dos Santos Aveiro</td>\n",
       "      <td>35</td>\n",
       "      <td>1985-02-05</td>\n",
       "      <td>187</td>\n",
       "      <td>83</td>\n",
       "      <td>Portugal</td>\n",
       "      <td>Juventus</td>\n",
       "      <td>Italian Serie A</td>\n",
       "      <td>1.0</td>\n",
       "      <td>92</td>\n",
       "      <td>92</td>\n",
       "      <td>46000000</td>\n",
       "      <td>220000</td>\n",
       "      <td>ST, LW</td>\n",
       "      <td>Right</td>\n",
       "      <td>5</td>\n",
       "      <td>4</td>\n",
       "      <td>5</td>\n",
       "      <td>High/Low</td>\n",
       "      <td>C. Ronaldo</td>\n",
       "      <td>Yes</td>\n",
       "      <td>75900000.0</td>\n",
       "      <td>#Aerial Threat, #Dribbler, #Distance Shooter, ...</td>\n",
       "      <td>LS</td>\n",
       "      <td>7.0</td>\n",
       "      <td>NaN</td>\n",
       "      <td>2018-07-10</td>\n",
       "      <td>2022.0</td>\n",
       "      <td>LS</td>\n",
       "      <td>7.0</td>\n",
       "      <td>89.0</td>\n",
       "      <td>93.0</td>\n",
       "      <td>81.0</td>\n",
       "      <td>89.0</td>\n",
       "      <td>35.0</td>\n",
       "      <td>77.0</td>\n",
       "      <td>NaN</td>\n",
       "      <td>NaN</td>\n",
       "      <td>NaN</td>\n",
       "      <td>NaN</td>\n",
       "      <td>NaN</td>\n",
       "      <td>NaN</td>\n",
       "      <td>Power Free-Kick, Flair, Long Shot Taker (AI), ...</td>\n",
       "      <td>84</td>\n",
       "      <td>95</td>\n",
       "      <td>90</td>\n",
       "      <td>82</td>\n",
       "      <td>86</td>\n",
       "      <td>88</td>\n",
       "      <td>81</td>\n",
       "      <td>76</td>\n",
       "      <td>77</td>\n",
       "      <td>92</td>\n",
       "      <td>87</td>\n",
       "      <td>91</td>\n",
       "      <td>87</td>\n",
       "      <td>95</td>\n",
       "      <td>71</td>\n",
       "      <td>94</td>\n",
       "      <td>95</td>\n",
       "      <td>84</td>\n",
       "      <td>78</td>\n",
       "      <td>93</td>\n",
       "      <td>63</td>\n",
       "      <td>29</td>\n",
       "      <td>95</td>\n",
       "      <td>82</td>\n",
       "      <td>84</td>\n",
       "      <td>95</td>\n",
       "      <td>NaN</td>\n",
       "      <td>32</td>\n",
       "      <td>24</td>\n",
       "      <td>7</td>\n",
       "      <td>11</td>\n",
       "      <td>15</td>\n",
       "      <td>14</td>\n",
       "      <td>11</td>\n",
       "      <td>91+1</td>\n",
       "      <td>91+1</td>\n",
       "      <td>91+1</td>\n",
       "      <td>89+0</td>\n",
       "      <td>91+0</td>\n",
       "      <td>91+0</td>\n",
       "      <td>91+0</td>\n",
       "      <td>89+0</td>\n",
       "      <td>88+3</td>\n",
       "      <td>88+3</td>\n",
       "      <td>88+3</td>\n",
       "      <td>88+3</td>\n",
       "      <td>81+3</td>\n",
       "      <td>81+3</td>\n",
       "      <td>81+3</td>\n",
       "      <td>88+3</td>\n",
       "      <td>65+3</td>\n",
       "      <td>61+3</td>\n",
       "      <td>61+3</td>\n",
       "      <td>61+3</td>\n",
       "      <td>65+3</td>\n",
       "      <td>61+3</td>\n",
       "      <td>54+3</td>\n",
       "      <td>54+3</td>\n",
       "      <td>54+3</td>\n",
       "      <td>61+3</td>\n",
       "    </tr>\n",
       "    <tr>\n",
       "      <th>2</th>\n",
       "      <td>200389</td>\n",
       "      <td>https://sofifa.com/player/200389/jan-oblak/210002</td>\n",
       "      <td>J. Oblak</td>\n",
       "      <td>Jan Oblak</td>\n",
       "      <td>27</td>\n",
       "      <td>1993-01-07</td>\n",
       "      <td>188</td>\n",
       "      <td>87</td>\n",
       "      <td>Slovenia</td>\n",
       "      <td>Atlético Madrid</td>\n",
       "      <td>Spain Primera Division</td>\n",
       "      <td>1.0</td>\n",
       "      <td>91</td>\n",
       "      <td>93</td>\n",
       "      <td>75000000</td>\n",
       "      <td>125000</td>\n",
       "      <td>GK</td>\n",
       "      <td>Right</td>\n",
       "      <td>3</td>\n",
       "      <td>3</td>\n",
       "      <td>1</td>\n",
       "      <td>Medium/Medium</td>\n",
       "      <td>PLAYER_BODY_TYPE_259</td>\n",
       "      <td>Yes</td>\n",
       "      <td>159400000.0</td>\n",
       "      <td>NaN</td>\n",
       "      <td>GK</td>\n",
       "      <td>13.0</td>\n",
       "      <td>NaN</td>\n",
       "      <td>2014-07-16</td>\n",
       "      <td>2023.0</td>\n",
       "      <td>GK</td>\n",
       "      <td>1.0</td>\n",
       "      <td>NaN</td>\n",
       "      <td>NaN</td>\n",
       "      <td>NaN</td>\n",
       "      <td>NaN</td>\n",
       "      <td>NaN</td>\n",
       "      <td>NaN</td>\n",
       "      <td>87.0</td>\n",
       "      <td>92.0</td>\n",
       "      <td>78.0</td>\n",
       "      <td>90.0</td>\n",
       "      <td>52.0</td>\n",
       "      <td>90.0</td>\n",
       "      <td>GK Long Throw, Comes For Crosses</td>\n",
       "      <td>13</td>\n",
       "      <td>11</td>\n",
       "      <td>15</td>\n",
       "      <td>43</td>\n",
       "      <td>13</td>\n",
       "      <td>12</td>\n",
       "      <td>13</td>\n",
       "      <td>14</td>\n",
       "      <td>40</td>\n",
       "      <td>30</td>\n",
       "      <td>43</td>\n",
       "      <td>60</td>\n",
       "      <td>67</td>\n",
       "      <td>88</td>\n",
       "      <td>49</td>\n",
       "      <td>59</td>\n",
       "      <td>78</td>\n",
       "      <td>41</td>\n",
       "      <td>78</td>\n",
       "      <td>12</td>\n",
       "      <td>34</td>\n",
       "      <td>19</td>\n",
       "      <td>11</td>\n",
       "      <td>65</td>\n",
       "      <td>11</td>\n",
       "      <td>68</td>\n",
       "      <td>NaN</td>\n",
       "      <td>12</td>\n",
       "      <td>18</td>\n",
       "      <td>87</td>\n",
       "      <td>92</td>\n",
       "      <td>78</td>\n",
       "      <td>90</td>\n",
       "      <td>90</td>\n",
       "      <td>33+3</td>\n",
       "      <td>33+3</td>\n",
       "      <td>33+3</td>\n",
       "      <td>32+0</td>\n",
       "      <td>35+0</td>\n",
       "      <td>35+0</td>\n",
       "      <td>35+0</td>\n",
       "      <td>32+0</td>\n",
       "      <td>38+3</td>\n",
       "      <td>38+3</td>\n",
       "      <td>38+3</td>\n",
       "      <td>35+3</td>\n",
       "      <td>38+3</td>\n",
       "      <td>38+3</td>\n",
       "      <td>38+3</td>\n",
       "      <td>35+3</td>\n",
       "      <td>32+3</td>\n",
       "      <td>36+3</td>\n",
       "      <td>36+3</td>\n",
       "      <td>36+3</td>\n",
       "      <td>32+3</td>\n",
       "      <td>32+3</td>\n",
       "      <td>33+3</td>\n",
       "      <td>33+3</td>\n",
       "      <td>33+3</td>\n",
       "      <td>32+3</td>\n",
       "    </tr>\n",
       "    <tr>\n",
       "      <th>3</th>\n",
       "      <td>188545</td>\n",
       "      <td>https://sofifa.com/player/188545/robert-lewand...</td>\n",
       "      <td>R. Lewandowski</td>\n",
       "      <td>Robert Lewandowski</td>\n",
       "      <td>31</td>\n",
       "      <td>1988-08-21</td>\n",
       "      <td>184</td>\n",
       "      <td>80</td>\n",
       "      <td>Poland</td>\n",
       "      <td>FC Bayern München</td>\n",
       "      <td>German 1. Bundesliga</td>\n",
       "      <td>1.0</td>\n",
       "      <td>91</td>\n",
       "      <td>91</td>\n",
       "      <td>80000000</td>\n",
       "      <td>240000</td>\n",
       "      <td>ST</td>\n",
       "      <td>Right</td>\n",
       "      <td>4</td>\n",
       "      <td>4</td>\n",
       "      <td>4</td>\n",
       "      <td>High/Medium</td>\n",
       "      <td>PLAYER_BODY_TYPE_276</td>\n",
       "      <td>Yes</td>\n",
       "      <td>132000000.0</td>\n",
       "      <td>#Distance Shooter, #Clinical Finisher</td>\n",
       "      <td>ST</td>\n",
       "      <td>9.0</td>\n",
       "      <td>NaN</td>\n",
       "      <td>2014-07-01</td>\n",
       "      <td>2023.0</td>\n",
       "      <td>NaN</td>\n",
       "      <td>NaN</td>\n",
       "      <td>78.0</td>\n",
       "      <td>91.0</td>\n",
       "      <td>78.0</td>\n",
       "      <td>85.0</td>\n",
       "      <td>43.0</td>\n",
       "      <td>82.0</td>\n",
       "      <td>NaN</td>\n",
       "      <td>NaN</td>\n",
       "      <td>NaN</td>\n",
       "      <td>NaN</td>\n",
       "      <td>NaN</td>\n",
       "      <td>NaN</td>\n",
       "      <td>Solid Player, Finesse Shot, Outside Foot Shot,...</td>\n",
       "      <td>71</td>\n",
       "      <td>94</td>\n",
       "      <td>85</td>\n",
       "      <td>84</td>\n",
       "      <td>89</td>\n",
       "      <td>85</td>\n",
       "      <td>79</td>\n",
       "      <td>85</td>\n",
       "      <td>70</td>\n",
       "      <td>88</td>\n",
       "      <td>77</td>\n",
       "      <td>78</td>\n",
       "      <td>77</td>\n",
       "      <td>93</td>\n",
       "      <td>82</td>\n",
       "      <td>89</td>\n",
       "      <td>84</td>\n",
       "      <td>76</td>\n",
       "      <td>86</td>\n",
       "      <td>85</td>\n",
       "      <td>81</td>\n",
       "      <td>49</td>\n",
       "      <td>94</td>\n",
       "      <td>79</td>\n",
       "      <td>88</td>\n",
       "      <td>88</td>\n",
       "      <td>NaN</td>\n",
       "      <td>42</td>\n",
       "      <td>19</td>\n",
       "      <td>15</td>\n",
       "      <td>6</td>\n",
       "      <td>12</td>\n",
       "      <td>8</td>\n",
       "      <td>10</td>\n",
       "      <td>89+2</td>\n",
       "      <td>89+2</td>\n",
       "      <td>89+2</td>\n",
       "      <td>85+0</td>\n",
       "      <td>87+0</td>\n",
       "      <td>87+0</td>\n",
       "      <td>87+0</td>\n",
       "      <td>85+0</td>\n",
       "      <td>85+3</td>\n",
       "      <td>85+3</td>\n",
       "      <td>85+3</td>\n",
       "      <td>83+3</td>\n",
       "      <td>79+3</td>\n",
       "      <td>79+3</td>\n",
       "      <td>79+3</td>\n",
       "      <td>83+3</td>\n",
       "      <td>64+3</td>\n",
       "      <td>65+3</td>\n",
       "      <td>65+3</td>\n",
       "      <td>65+3</td>\n",
       "      <td>64+3</td>\n",
       "      <td>61+3</td>\n",
       "      <td>60+3</td>\n",
       "      <td>60+3</td>\n",
       "      <td>60+3</td>\n",
       "      <td>61+3</td>\n",
       "    </tr>\n",
       "    <tr>\n",
       "      <th>4</th>\n",
       "      <td>190871</td>\n",
       "      <td>https://sofifa.com/player/190871/neymar-da-sil...</td>\n",
       "      <td>Neymar Jr</td>\n",
       "      <td>Neymar da Silva Santos Júnior</td>\n",
       "      <td>28</td>\n",
       "      <td>1992-02-05</td>\n",
       "      <td>175</td>\n",
       "      <td>68</td>\n",
       "      <td>Brazil</td>\n",
       "      <td>Paris Saint-Germain</td>\n",
       "      <td>French Ligue 1</td>\n",
       "      <td>1.0</td>\n",
       "      <td>91</td>\n",
       "      <td>91</td>\n",
       "      <td>90000000</td>\n",
       "      <td>270000</td>\n",
       "      <td>LW, CAM</td>\n",
       "      <td>Right</td>\n",
       "      <td>5</td>\n",
       "      <td>5</td>\n",
       "      <td>5</td>\n",
       "      <td>High/Medium</td>\n",
       "      <td>Neymar</td>\n",
       "      <td>Yes</td>\n",
       "      <td>166500000.0</td>\n",
       "      <td>#Speedster, #Dribbler, #Playmaker, #FK Special...</td>\n",
       "      <td>LW</td>\n",
       "      <td>10.0</td>\n",
       "      <td>NaN</td>\n",
       "      <td>2017-08-03</td>\n",
       "      <td>2022.0</td>\n",
       "      <td>NaN</td>\n",
       "      <td>NaN</td>\n",
       "      <td>91.0</td>\n",
       "      <td>85.0</td>\n",
       "      <td>86.0</td>\n",
       "      <td>94.0</td>\n",
       "      <td>36.0</td>\n",
       "      <td>59.0</td>\n",
       "      <td>NaN</td>\n",
       "      <td>NaN</td>\n",
       "      <td>NaN</td>\n",
       "      <td>NaN</td>\n",
       "      <td>NaN</td>\n",
       "      <td>NaN</td>\n",
       "      <td>Injury Prone, Flair, Speed Dribbler (AI), Outs...</td>\n",
       "      <td>85</td>\n",
       "      <td>87</td>\n",
       "      <td>62</td>\n",
       "      <td>87</td>\n",
       "      <td>87</td>\n",
       "      <td>95</td>\n",
       "      <td>88</td>\n",
       "      <td>89</td>\n",
       "      <td>81</td>\n",
       "      <td>95</td>\n",
       "      <td>94</td>\n",
       "      <td>89</td>\n",
       "      <td>96</td>\n",
       "      <td>91</td>\n",
       "      <td>83</td>\n",
       "      <td>80</td>\n",
       "      <td>62</td>\n",
       "      <td>81</td>\n",
       "      <td>50</td>\n",
       "      <td>84</td>\n",
       "      <td>51</td>\n",
       "      <td>36</td>\n",
       "      <td>87</td>\n",
       "      <td>90</td>\n",
       "      <td>92</td>\n",
       "      <td>93</td>\n",
       "      <td>NaN</td>\n",
       "      <td>30</td>\n",
       "      <td>29</td>\n",
       "      <td>9</td>\n",
       "      <td>9</td>\n",
       "      <td>15</td>\n",
       "      <td>15</td>\n",
       "      <td>11</td>\n",
       "      <td>84+3</td>\n",
       "      <td>84+3</td>\n",
       "      <td>84+3</td>\n",
       "      <td>90+0</td>\n",
       "      <td>89+0</td>\n",
       "      <td>89+0</td>\n",
       "      <td>89+0</td>\n",
       "      <td>90+0</td>\n",
       "      <td>90+1</td>\n",
       "      <td>90+1</td>\n",
       "      <td>90+1</td>\n",
       "      <td>90+1</td>\n",
       "      <td>83+3</td>\n",
       "      <td>83+3</td>\n",
       "      <td>83+3</td>\n",
       "      <td>90+1</td>\n",
       "      <td>67+3</td>\n",
       "      <td>62+3</td>\n",
       "      <td>62+3</td>\n",
       "      <td>62+3</td>\n",
       "      <td>67+3</td>\n",
       "      <td>62+3</td>\n",
       "      <td>49+3</td>\n",
       "      <td>49+3</td>\n",
       "      <td>49+3</td>\n",
       "      <td>62+3</td>\n",
       "    </tr>\n",
       "  </tbody>\n",
       "</table>\n",
       "</div>"
      ],
      "text/plain": [
       "   sofifa_id                                         player_url  \\\n",
       "0     158023  https://sofifa.com/player/158023/lionel-messi/...   \n",
       "1      20801  https://sofifa.com/player/20801/c-ronaldo-dos-...   \n",
       "2     200389  https://sofifa.com/player/200389/jan-oblak/210002   \n",
       "3     188545  https://sofifa.com/player/188545/robert-lewand...   \n",
       "4     190871  https://sofifa.com/player/190871/neymar-da-sil...   \n",
       "\n",
       "          short_name                            long_name  age         dob  \\\n",
       "0           L. Messi       Lionel Andrés Messi Cuccittini   33  1987-06-24   \n",
       "1  Cristiano Ronaldo  Cristiano Ronaldo dos Santos Aveiro   35  1985-02-05   \n",
       "2           J. Oblak                            Jan Oblak   27  1993-01-07   \n",
       "3     R. Lewandowski                   Robert Lewandowski   31  1988-08-21   \n",
       "4          Neymar Jr        Neymar da Silva Santos Júnior   28  1992-02-05   \n",
       "\n",
       "   height_cm  weight_kg nationality            club_name  \\\n",
       "0        170         72   Argentina         FC Barcelona   \n",
       "1        187         83    Portugal             Juventus   \n",
       "2        188         87    Slovenia      Atlético Madrid   \n",
       "3        184         80      Poland    FC Bayern München   \n",
       "4        175         68      Brazil  Paris Saint-Germain   \n",
       "\n",
       "              league_name  league_rank  overall  potential  value_eur  \\\n",
       "0  Spain Primera Division          1.0       93         93   67500000   \n",
       "1         Italian Serie A          1.0       92         92   46000000   \n",
       "2  Spain Primera Division          1.0       91         93   75000000   \n",
       "3    German 1. Bundesliga          1.0       91         91   80000000   \n",
       "4          French Ligue 1          1.0       91         91   90000000   \n",
       "\n",
       "   wage_eur player_positions preferred_foot  international_reputation  \\\n",
       "0    560000       RW, ST, CF           Left                         5   \n",
       "1    220000           ST, LW          Right                         5   \n",
       "2    125000               GK          Right                         3   \n",
       "3    240000               ST          Right                         4   \n",
       "4    270000          LW, CAM          Right                         5   \n",
       "\n",
       "   weak_foot  skill_moves      work_rate             body_type real_face  \\\n",
       "0          4            4     Medium/Low                 Messi       Yes   \n",
       "1          4            5       High/Low            C. Ronaldo       Yes   \n",
       "2          3            1  Medium/Medium  PLAYER_BODY_TYPE_259       Yes   \n",
       "3          4            4    High/Medium  PLAYER_BODY_TYPE_276       Yes   \n",
       "4          5            5    High/Medium                Neymar       Yes   \n",
       "\n",
       "   release_clause_eur                                        player_tags  \\\n",
       "0         138400000.0  #Dribbler, #Distance Shooter, #FK Specialist, ...   \n",
       "1          75900000.0  #Aerial Threat, #Dribbler, #Distance Shooter, ...   \n",
       "2         159400000.0                                                NaN   \n",
       "3         132000000.0              #Distance Shooter, #Clinical Finisher   \n",
       "4         166500000.0  #Speedster, #Dribbler, #Playmaker, #FK Special...   \n",
       "\n",
       "  team_position  team_jersey_number loaned_from      joined  \\\n",
       "0           CAM                10.0         NaN  2004-07-01   \n",
       "1            LS                 7.0         NaN  2018-07-10   \n",
       "2            GK                13.0         NaN  2014-07-16   \n",
       "3            ST                 9.0         NaN  2014-07-01   \n",
       "4            LW                10.0         NaN  2017-08-03   \n",
       "\n",
       "   contract_valid_until nation_position  nation_jersey_number  pace  shooting  \\\n",
       "0                2021.0              RW                  10.0  85.0      92.0   \n",
       "1                2022.0              LS                   7.0  89.0      93.0   \n",
       "2                2023.0              GK                   1.0   NaN       NaN   \n",
       "3                2023.0             NaN                   NaN  78.0      91.0   \n",
       "4                2022.0             NaN                   NaN  91.0      85.0   \n",
       "\n",
       "   passing  dribbling  defending  physic  gk_diving  gk_handling  gk_kicking  \\\n",
       "0     91.0       95.0       38.0    65.0        NaN          NaN         NaN   \n",
       "1     81.0       89.0       35.0    77.0        NaN          NaN         NaN   \n",
       "2      NaN        NaN        NaN     NaN       87.0         92.0        78.0   \n",
       "3     78.0       85.0       43.0    82.0        NaN          NaN         NaN   \n",
       "4     86.0       94.0       36.0    59.0        NaN          NaN         NaN   \n",
       "\n",
       "   gk_reflexes  gk_speed  gk_positioning  \\\n",
       "0          NaN       NaN             NaN   \n",
       "1          NaN       NaN             NaN   \n",
       "2         90.0      52.0            90.0   \n",
       "3          NaN       NaN             NaN   \n",
       "4          NaN       NaN             NaN   \n",
       "\n",
       "                                       player_traits  attacking_crossing  \\\n",
       "0  Finesse Shot, Long Shot Taker (AI), Speed Drib...                  85   \n",
       "1  Power Free-Kick, Flair, Long Shot Taker (AI), ...                  84   \n",
       "2                   GK Long Throw, Comes For Crosses                  13   \n",
       "3  Solid Player, Finesse Shot, Outside Foot Shot,...                  71   \n",
       "4  Injury Prone, Flair, Speed Dribbler (AI), Outs...                  85   \n",
       "\n",
       "   attacking_finishing  attacking_heading_accuracy  attacking_short_passing  \\\n",
       "0                   95                          70                       91   \n",
       "1                   95                          90                       82   \n",
       "2                   11                          15                       43   \n",
       "3                   94                          85                       84   \n",
       "4                   87                          62                       87   \n",
       "\n",
       "   attacking_volleys  skill_dribbling  skill_curve  skill_fk_accuracy  \\\n",
       "0                 88               96           93                 94   \n",
       "1                 86               88           81                 76   \n",
       "2                 13               12           13                 14   \n",
       "3                 89               85           79                 85   \n",
       "4                 87               95           88                 89   \n",
       "\n",
       "   skill_long_passing  skill_ball_control  movement_acceleration  \\\n",
       "0                  91                  96                     91   \n",
       "1                  77                  92                     87   \n",
       "2                  40                  30                     43   \n",
       "3                  70                  88                     77   \n",
       "4                  81                  95                     94   \n",
       "\n",
       "   movement_sprint_speed  movement_agility  movement_reactions  \\\n",
       "0                     80                91                  94   \n",
       "1                     91                87                  95   \n",
       "2                     60                67                  88   \n",
       "3                     78                77                  93   \n",
       "4                     89                96                  91   \n",
       "\n",
       "   movement_balance  power_shot_power  power_jumping  power_stamina  \\\n",
       "0                95                86             68             72   \n",
       "1                71                94             95             84   \n",
       "2                49                59             78             41   \n",
       "3                82                89             84             76   \n",
       "4                83                80             62             81   \n",
       "\n",
       "   power_strength  power_long_shots  mentality_aggression  \\\n",
       "0              69                94                    44   \n",
       "1              78                93                    63   \n",
       "2              78                12                    34   \n",
       "3              86                85                    81   \n",
       "4              50                84                    51   \n",
       "\n",
       "   mentality_interceptions  mentality_positioning  mentality_vision  \\\n",
       "0                       40                     93                95   \n",
       "1                       29                     95                82   \n",
       "2                       19                     11                65   \n",
       "3                       49                     94                79   \n",
       "4                       36                     87                90   \n",
       "\n",
       "   mentality_penalties  mentality_composure  defending_marking  \\\n",
       "0                   75                   96                NaN   \n",
       "1                   84                   95                NaN   \n",
       "2                   11                   68                NaN   \n",
       "3                   88                   88                NaN   \n",
       "4                   92                   93                NaN   \n",
       "\n",
       "   defending_standing_tackle  defending_sliding_tackle  goalkeeping_diving  \\\n",
       "0                         35                        24                   6   \n",
       "1                         32                        24                   7   \n",
       "2                         12                        18                  87   \n",
       "3                         42                        19                  15   \n",
       "4                         30                        29                   9   \n",
       "\n",
       "   goalkeeping_handling  goalkeeping_kicking  goalkeeping_positioning  \\\n",
       "0                    11                   15                       14   \n",
       "1                    11                   15                       14   \n",
       "2                    92                   78                       90   \n",
       "3                     6                   12                        8   \n",
       "4                     9                   15                       15   \n",
       "\n",
       "   goalkeeping_reflexes    ls    st    rs    lw    lf    cf    rf    rw   lam  \\\n",
       "0                     8  89+3  89+3  89+3  92+0  93+0  93+0  93+0  92+0  93+0   \n",
       "1                    11  91+1  91+1  91+1  89+0  91+0  91+0  91+0  89+0  88+3   \n",
       "2                    90  33+3  33+3  33+3  32+0  35+0  35+0  35+0  32+0  38+3   \n",
       "3                    10  89+2  89+2  89+2  85+0  87+0  87+0  87+0  85+0  85+3   \n",
       "4                    11  84+3  84+3  84+3  90+0  89+0  89+0  89+0  90+0  90+1   \n",
       "\n",
       "    cam   ram    lm   lcm    cm   rcm    rm   lwb   ldm   cdm   rdm   rwb  \\\n",
       "0  93+0  93+0  91+2  87+3  87+3  87+3  91+2  66+3  65+3  65+3  65+3  66+3   \n",
       "1  88+3  88+3  88+3  81+3  81+3  81+3  88+3  65+3  61+3  61+3  61+3  65+3   \n",
       "2  38+3  38+3  35+3  38+3  38+3  38+3  35+3  32+3  36+3  36+3  36+3  32+3   \n",
       "3  85+3  85+3  83+3  79+3  79+3  79+3  83+3  64+3  65+3  65+3  65+3  64+3   \n",
       "4  90+1  90+1  90+1  83+3  83+3  83+3  90+1  67+3  62+3  62+3  62+3  67+3   \n",
       "\n",
       "     lb   lcb    cb   rcb    rb  \n",
       "0  62+3  52+3  52+3  52+3  62+3  \n",
       "1  61+3  54+3  54+3  54+3  61+3  \n",
       "2  32+3  33+3  33+3  33+3  32+3  \n",
       "3  61+3  60+3  60+3  60+3  61+3  \n",
       "4  62+3  49+3  49+3  49+3  62+3  "
      ]
     },
     "execution_count": 3,
     "metadata": {},
     "output_type": "execute_result"
    }
   ],
   "source": [
    "data = pd.read_csv(r\"C:\\Users\\Patron\\Downloads\\fifa dataset\\players_21.csv\")\n",
    "data.head()"
   ]
  },
  {
   "cell_type": "code",
   "execution_count": 5,
   "id": "069d9ee3",
   "metadata": {},
   "outputs": [],
   "source": [
    "skills = []\n",
    "for i in data.columns:\n",
    "    skills.append(i)\n"
   ]
  },
  {
   "cell_type": "code",
   "execution_count": 6,
   "id": "8355e30a",
   "metadata": {},
   "outputs": [
    {
     "data": {
      "text/plain": [
       "['sofifa_id',\n",
       " 'player_url',\n",
       " 'short_name',\n",
       " 'long_name',\n",
       " 'age',\n",
       " 'dob',\n",
       " 'height_cm',\n",
       " 'weight_kg',\n",
       " 'nationality',\n",
       " 'club_name',\n",
       " 'league_name',\n",
       " 'league_rank',\n",
       " 'overall',\n",
       " 'potential',\n",
       " 'value_eur',\n",
       " 'wage_eur',\n",
       " 'player_positions',\n",
       " 'preferred_foot',\n",
       " 'international_reputation',\n",
       " 'weak_foot',\n",
       " 'skill_moves',\n",
       " 'work_rate',\n",
       " 'body_type',\n",
       " 'real_face',\n",
       " 'release_clause_eur',\n",
       " 'player_tags',\n",
       " 'team_position',\n",
       " 'team_jersey_number',\n",
       " 'loaned_from',\n",
       " 'joined',\n",
       " 'contract_valid_until',\n",
       " 'nation_position',\n",
       " 'nation_jersey_number',\n",
       " 'pace',\n",
       " 'shooting',\n",
       " 'passing',\n",
       " 'dribbling',\n",
       " 'defending',\n",
       " 'physic',\n",
       " 'gk_diving',\n",
       " 'gk_handling',\n",
       " 'gk_kicking',\n",
       " 'gk_reflexes',\n",
       " 'gk_speed',\n",
       " 'gk_positioning',\n",
       " 'player_traits',\n",
       " 'attacking_crossing',\n",
       " 'attacking_finishing',\n",
       " 'attacking_heading_accuracy',\n",
       " 'attacking_short_passing',\n",
       " 'attacking_volleys',\n",
       " 'skill_dribbling',\n",
       " 'skill_curve',\n",
       " 'skill_fk_accuracy',\n",
       " 'skill_long_passing',\n",
       " 'skill_ball_control',\n",
       " 'movement_acceleration',\n",
       " 'movement_sprint_speed',\n",
       " 'movement_agility',\n",
       " 'movement_reactions',\n",
       " 'movement_balance',\n",
       " 'power_shot_power',\n",
       " 'power_jumping',\n",
       " 'power_stamina',\n",
       " 'power_strength',\n",
       " 'power_long_shots',\n",
       " 'mentality_aggression',\n",
       " 'mentality_interceptions',\n",
       " 'mentality_positioning',\n",
       " 'mentality_vision',\n",
       " 'mentality_penalties',\n",
       " 'mentality_composure',\n",
       " 'defending_marking',\n",
       " 'defending_standing_tackle',\n",
       " 'defending_sliding_tackle',\n",
       " 'goalkeeping_diving',\n",
       " 'goalkeeping_handling',\n",
       " 'goalkeeping_kicking',\n",
       " 'goalkeeping_positioning',\n",
       " 'goalkeeping_reflexes',\n",
       " 'ls',\n",
       " 'st',\n",
       " 'rs',\n",
       " 'lw',\n",
       " 'lf',\n",
       " 'cf',\n",
       " 'rf',\n",
       " 'rw',\n",
       " 'lam',\n",
       " 'cam',\n",
       " 'ram',\n",
       " 'lm',\n",
       " 'lcm',\n",
       " 'cm',\n",
       " 'rcm',\n",
       " 'rm',\n",
       " 'lwb',\n",
       " 'ldm',\n",
       " 'cdm',\n",
       " 'rdm',\n",
       " 'rwb',\n",
       " 'lb',\n",
       " 'lcb',\n",
       " 'cb',\n",
       " 'rcb',\n",
       " 'rb']"
      ]
     },
     "execution_count": 6,
     "metadata": {},
     "output_type": "execute_result"
    }
   ],
   "source": [
    "skills"
   ]
  },
  {
   "cell_type": "code",
   "execution_count": 7,
   "id": "09e409d6",
   "metadata": {},
   "outputs": [
    {
     "data": {
      "text/plain": [
       "sofifa_id                         0\n",
       "player_url                        0\n",
       "short_name                        0\n",
       "long_name                         0\n",
       "age                               0\n",
       "dob                               0\n",
       "height_cm                         0\n",
       "weight_kg                         0\n",
       "nationality                       0\n",
       "club_name                       225\n",
       "league_name                     225\n",
       "league_rank                     225\n",
       "overall                           0\n",
       "potential                         0\n",
       "value_eur                         0\n",
       "wage_eur                          0\n",
       "player_positions                  0\n",
       "preferred_foot                    0\n",
       "international_reputation          0\n",
       "weak_foot                         0\n",
       "skill_moves                       0\n",
       "work_rate                         0\n",
       "body_type                         0\n",
       "real_face                         0\n",
       "release_clause_eur              995\n",
       "player_tags                   17536\n",
       "team_position                   225\n",
       "team_jersey_number              225\n",
       "loaned_from                   18186\n",
       "joined                          983\n",
       "contract_valid_until            225\n",
       "nation_position               17817\n",
       "nation_jersey_number          17817\n",
       "pace                           2083\n",
       "shooting                       2083\n",
       "passing                        2083\n",
       "dribbling                      2083\n",
       "defending                      2083\n",
       "physic                         2083\n",
       "gk_diving                     16861\n",
       "gk_handling                   16861\n",
       "gk_kicking                    16861\n",
       "gk_reflexes                   16861\n",
       "gk_speed                      16861\n",
       "gk_positioning                16861\n",
       "player_traits                 10629\n",
       "attacking_crossing                0\n",
       "attacking_finishing               0\n",
       "attacking_heading_accuracy        0\n",
       "attacking_short_passing           0\n",
       "attacking_volleys                 0\n",
       "skill_dribbling                   0\n",
       "skill_curve                       0\n",
       "skill_fk_accuracy                 0\n",
       "skill_long_passing                0\n",
       "skill_ball_control                0\n",
       "movement_acceleration             0\n",
       "movement_sprint_speed             0\n",
       "movement_agility                  0\n",
       "movement_reactions                0\n",
       "movement_balance                  0\n",
       "power_shot_power                  0\n",
       "power_jumping                     0\n",
       "power_stamina                     0\n",
       "power_strength                    0\n",
       "power_long_shots                  0\n",
       "mentality_aggression              0\n",
       "mentality_interceptions           0\n",
       "mentality_positioning             0\n",
       "mentality_vision                  0\n",
       "mentality_penalties               0\n",
       "mentality_composure               0\n",
       "defending_marking             18944\n",
       "defending_standing_tackle         0\n",
       "defending_sliding_tackle          0\n",
       "goalkeeping_diving                0\n",
       "goalkeeping_handling              0\n",
       "goalkeeping_kicking               0\n",
       "goalkeeping_positioning           0\n",
       "goalkeeping_reflexes              0\n",
       "ls                                0\n",
       "st                                0\n",
       "rs                                0\n",
       "lw                                0\n",
       "lf                                0\n",
       "cf                                0\n",
       "rf                                0\n",
       "rw                                0\n",
       "lam                               0\n",
       "cam                               0\n",
       "ram                               0\n",
       "lm                                0\n",
       "lcm                               0\n",
       "cm                                0\n",
       "rcm                               0\n",
       "rm                                0\n",
       "lwb                               0\n",
       "ldm                               0\n",
       "cdm                               0\n",
       "rdm                               0\n",
       "rwb                               0\n",
       "lb                                0\n",
       "lcb                               0\n",
       "cb                                0\n",
       "rcb                               0\n",
       "rb                                0\n",
       "dtype: int64"
      ]
     },
     "execution_count": 7,
     "metadata": {},
     "output_type": "execute_result"
    }
   ],
   "source": [
    "data.isnull().sum()"
   ]
  },
  {
   "cell_type": "code",
   "execution_count": 9,
   "id": "55cabcdc",
   "metadata": {},
   "outputs": [],
   "source": [
    "# selecting columns to impute the missing values by mean\n",
    "to_impute_by_mean = data.loc[:, ['dribbling','defending','passing','pace','shooting','physic']]\n",
    "# replacing the missing values with mean\n",
    "for i in to_impute_by_mean.columns:\n",
    "    data[i].fillna(data[i].mean(), inplace = True)"
   ]
  },
  {
   "cell_type": "code",
   "execution_count": 10,
   "id": "8b303456",
   "metadata": {},
   "outputs": [
    {
     "data": {
      "text/plain": [
       "sofifa_id                         0\n",
       "player_url                        0\n",
       "short_name                        0\n",
       "long_name                         0\n",
       "age                               0\n",
       "dob                               0\n",
       "height_cm                         0\n",
       "weight_kg                         0\n",
       "nationality                       0\n",
       "club_name                       225\n",
       "league_name                     225\n",
       "league_rank                     225\n",
       "overall                           0\n",
       "potential                         0\n",
       "value_eur                         0\n",
       "wage_eur                          0\n",
       "player_positions                  0\n",
       "preferred_foot                    0\n",
       "international_reputation          0\n",
       "weak_foot                         0\n",
       "skill_moves                       0\n",
       "work_rate                         0\n",
       "body_type                         0\n",
       "real_face                         0\n",
       "release_clause_eur              995\n",
       "player_tags                   17536\n",
       "team_position                   225\n",
       "team_jersey_number              225\n",
       "loaned_from                   18186\n",
       "joined                          983\n",
       "contract_valid_until            225\n",
       "nation_position               17817\n",
       "nation_jersey_number          17817\n",
       "pace                              0\n",
       "shooting                          0\n",
       "passing                           0\n",
       "dribbling                         0\n",
       "defending                         0\n",
       "physic                            0\n",
       "gk_diving                     16861\n",
       "gk_handling                   16861\n",
       "gk_kicking                    16861\n",
       "gk_reflexes                   16861\n",
       "gk_speed                      16861\n",
       "gk_positioning                16861\n",
       "player_traits                 10629\n",
       "attacking_crossing                0\n",
       "attacking_finishing               0\n",
       "attacking_heading_accuracy        0\n",
       "attacking_short_passing           0\n",
       "attacking_volleys                 0\n",
       "skill_dribbling                   0\n",
       "skill_curve                       0\n",
       "skill_fk_accuracy                 0\n",
       "skill_long_passing                0\n",
       "skill_ball_control                0\n",
       "movement_acceleration             0\n",
       "movement_sprint_speed             0\n",
       "movement_agility                  0\n",
       "movement_reactions                0\n",
       "movement_balance                  0\n",
       "power_shot_power                  0\n",
       "power_jumping                     0\n",
       "power_stamina                     0\n",
       "power_strength                    0\n",
       "power_long_shots                  0\n",
       "mentality_aggression              0\n",
       "mentality_interceptions           0\n",
       "mentality_positioning             0\n",
       "mentality_vision                  0\n",
       "mentality_penalties               0\n",
       "mentality_composure               0\n",
       "defending_marking             18944\n",
       "defending_standing_tackle         0\n",
       "defending_sliding_tackle          0\n",
       "goalkeeping_diving                0\n",
       "goalkeeping_handling              0\n",
       "goalkeeping_kicking               0\n",
       "goalkeeping_positioning           0\n",
       "goalkeeping_reflexes              0\n",
       "ls                                0\n",
       "st                                0\n",
       "rs                                0\n",
       "lw                                0\n",
       "lf                                0\n",
       "cf                                0\n",
       "rf                                0\n",
       "rw                                0\n",
       "lam                               0\n",
       "cam                               0\n",
       "ram                               0\n",
       "lm                                0\n",
       "lcm                               0\n",
       "cm                                0\n",
       "rcm                               0\n",
       "rm                                0\n",
       "lwb                               0\n",
       "ldm                               0\n",
       "cdm                               0\n",
       "rdm                               0\n",
       "rwb                               0\n",
       "lb                                0\n",
       "lcb                               0\n",
       "cb                                0\n",
       "rcb                               0\n",
       "rb                                0\n",
       "dtype: int64"
      ]
     },
     "execution_count": 10,
     "metadata": {},
     "output_type": "execute_result"
    }
   ],
   "source": [
    "data.isnull().sum()"
   ]
  },
  {
   "cell_type": "code",
   "execution_count": 11,
   "id": "bfcb589b",
   "metadata": {},
   "outputs": [
    {
     "data": {
      "image/png": "[encoded data removed]",
      "text/plain": [
       "<Figure size 2200x800 with 1 Axes>"
      ]
     },
     "metadata": {},
     "output_type": "display_data"
    }
   ],
   "source": [
    "plt.figure(figsize = (22, 8))\n",
    "ax = sns.countplot(x = 'height_cm', data = data)\n",
    "ax.set_title(label = 'Count of players on Basis of Height', fontsize = 20)\n",
    "ax.set_xlabel(xlabel = 'Height in Foot per inch', fontsize = 16)\n",
    "ax.set_ylabel(ylabel = 'Count', fontsize = 16)\n",
    "plt.show()"
   ]
  },
  {
   "cell_type": "code",
   "execution_count": 12,
   "id": "c07b38b4",
   "metadata": {},
   "outputs": [
    {
     "data": {
      "text/plain": [
       "<Axes: title={'center': 'Height vs Dribbling'}, xlabel='height_cm', ylabel='dribbling'>"
      ]
     },
     "execution_count": 12,
     "metadata": {},
     "output_type": "execute_result"
    },
    {
     "data": {
      "image/png": "[encoded data removed]",
      "text/plain": [
       "<Figure size 2200x700 with 1 Axes>"
      ]
     },
     "metadata": {},
     "output_type": "display_data"
    }
   ],
   "source": [
    "plt.figure(figsize = (22, 7))\n",
    "plt.xlabel('Height', fontsize=20)\n",
    "plt.ylabel('Dribbling', fontsize=20)\n",
    "plt.title('Height vs Dribbling', fontsize = 25)\n",
    "sns.barplot(x='height_cm', y='dribbling', data=data.sort_values('height_cm', inplace=False), alpha=0.6)\n"
   ]
  },
  {
   "cell_type": "code",
   "execution_count": 13,
   "id": "dcca7f6c",
   "metadata": {},
   "outputs": [
    {
     "data": {
      "text/plain": [
       "Index(['sofifa_id', 'player_url', 'short_name', 'long_name', 'age', 'dob',\n",
       "       'height_cm', 'weight_kg', 'nationality', 'club_name',\n",
       "       ...\n",
       "       'lwb', 'ldm', 'cdm', 'rdm', 'rwb', 'lb', 'lcb', 'cb', 'rcb', 'rb'],\n",
       "      dtype='object', length=106)"
      ]
     },
     "execution_count": 13,
     "metadata": {},
     "output_type": "execute_result"
    }
   ],
   "source": [
    "#Messi vs Ronaldo lets goooo\n",
    "data.columns"
   ]
  },
  {
   "cell_type": "code",
   "execution_count": 19,
   "id": "9b1f6a57",
   "metadata": {},
   "outputs": [],
   "source": [
    "skills = ['pace',\n",
    " 'shooting',\n",
    " 'passing',\n",
    " 'dribbling',\n",
    " 'defending',\n",
    " 'physic',\n",
    " 'player_traits',\n",
    " 'attacking_crossing',\n",
    " 'attacking_finishing',\n",
    " 'attacking_heading_accuracy',\n",
    " 'attacking_short_passing',\n",
    " 'attacking_volleys',\n",
    " 'skill_dribbling',\n",
    " 'skill_curve',\n",
    " 'skill_fk_accuracy',\n",
    " 'skill_long_passing',\n",
    " 'skill_ball_control',\n",
    " 'movement_acceleration',\n",
    " 'movement_sprint_speed',\n",
    " 'movement_agility',\n",
    " 'movement_reactions',\n",
    " 'movement_balance',\n",
    " 'power_shot_power',\n",
    " 'power_jumping',\n",
    " 'power_stamina',\n",
    " 'power_strength',\n",
    " 'power_long_shots']"
   ]
  },
  {
   "cell_type": "code",
   "execution_count": 20,
   "id": "4e2aa0c7",
   "metadata": {},
   "outputs": [
    {
     "data": {
      "image/png": "[encoded data removed]",
      "text/plain": [
       "<Figure size 1500x800 with 1 Axes>"
      ]
     },
     "metadata": {},
     "output_type": "display_data"
    }
   ],
   "source": [
    "messi = data.loc[data['short_name'] == 'L. Messi']\n",
    "messi = pd.DataFrame(messi, columns = skills)\n",
    "ronaldo = data.loc[data['short_name'] == 'Cristiano Ronaldo']\n",
    "ronaldo = pd.DataFrame(ronaldo, columns = skills)\n",
    "\n",
    "plt.figure(figsize=(15,8))\n",
    "sns.pointplot(data=messi,color='blue')\n",
    "sns.pointplot(data=ronaldo, color='red')\n",
    "plt.xticks(rotation=90)\n",
    "plt.xlabel('Skills', fontsize=20)\n",
    "plt.ylabel('Skill value', fontsize=20)\n",
    "plt.title('Messi vs Ronaldo', fontsize = 25)\n",
    "plt.grid()\n"
   ]
  },
  {
   "cell_type": "code",
   "execution_count": 31,
   "id": "1562a564",
   "metadata": {},
   "outputs": [
    {
     "data": {
      "text/html": [
       "<table border=\"1\" class=\"dataframe\">\n",
       "  <thead>\n",
       "    <tr style=\"text-align: right;\">\n",
       "      <th>short_name</th>\n",
       "      <th>overall</th>\n",
       "    </tr>\n",
       "  </thead>\n",
       "  <tbody>\n",
       "    <tr>\n",
       "      <td>L. Messi</td>\n",
       "      <td>93</td>\n",
       "    </tr>\n",
       "    <tr>\n",
       "      <td>Cristiano Ronaldo</td>\n",
       "      <td>92</td>\n",
       "    </tr>\n",
       "    <tr>\n",
       "      <td>J. Oblak</td>\n",
       "      <td>91</td>\n",
       "    </tr>\n",
       "    <tr>\n",
       "      <td>R. Lewandowski</td>\n",
       "      <td>91</td>\n",
       "    </tr>\n",
       "    <tr>\n",
       "      <td>Neymar Jr</td>\n",
       "      <td>91</td>\n",
       "    </tr>\n",
       "    <tr>\n",
       "      <td>K. De Bruyne</td>\n",
       "      <td>91</td>\n",
       "    </tr>\n",
       "    <tr>\n",
       "      <td>Alisson</td>\n",
       "      <td>90</td>\n",
       "    </tr>\n",
       "    <tr>\n",
       "      <td>S. Mané</td>\n",
       "      <td>90</td>\n",
       "    </tr>\n",
       "    <tr>\n",
       "      <td>M. Salah</td>\n",
       "      <td>90</td>\n",
       "    </tr>\n",
       "    <tr>\n",
       "      <td>V. van Dijk</td>\n",
       "      <td>90</td>\n",
       "    </tr>\n",
       "  </tbody>\n",
       "</table>"
      ],
      "text/plain": [
       "<IPython.core.display.HTML object>"
      ]
     },
     "metadata": {},
     "output_type": "display_data"
    }
   ],
   "source": [
    "#top 10 best players in 2021\n",
    "display(\n",
    "    HTML(data.sort_values('overall', ascending=False)[['short_name', 'overall']][:10].to_html(index=False)\n",
    "))"
   ]
  },
  {
   "cell_type": "code",
   "execution_count": 34,
   "id": "7277430c",
   "metadata": {},
   "outputs": [
    {
     "data": {
      "text/plain": [
       "nationality\n",
       "Argentina    93\n",
       "Portugal     92\n",
       "Poland       91\n",
       "Brazil       91\n",
       "Slovenia     91\n",
       "Name: overall, dtype: int64"
      ]
     },
     "execution_count": 34,
     "metadata": {},
     "output_type": "execute_result"
    }
   ],
   "source": [
    "#Top 5 Nations with overall best player\n",
    "top_Nations = data.groupby(['nationality'])['overall'].max().sort_values(ascending = False).head(5)\n",
    "top_Nations"
   ]
  },
  {
   "cell_type": "code",
   "execution_count": 36,
   "id": "73106f8e",
   "metadata": {},
   "outputs": [
    {
     "data": {
      "image/png": "[encoded data removed]",
      "text/plain": [
       "<Figure size 2000x1000 with 1 Axes>"
      ]
     },
     "metadata": {},
     "output_type": "display_data"
    }
   ],
   "source": [
    "top_club_names = ('FC Barcelona', 'Juventus', 'Paris Saint-Germain', 'Chelsea', 'Manchester City')\n",
    "clubs = data.loc[data['club_name'].isin(top_club_names) & data['age']]\n",
    "fig, ax = plt.subplots()\n",
    "fig.set_size_inches(20, 10)\n",
    "ax = sns.scatterplot(x=\"club_name\", y=\"age\", data=clubs)\n",
    "ax.set_title(label='Age distribution in the top 5 clubs', fontsize=25)\n",
    "plt.xlabel('Clubs', fontsize=20)\n",
    "plt.ylabel('Age', fontsize=20)\n",
    "plt.grid()"
   ]
  },
  {
   "cell_type": "code",
   "execution_count": 38,
   "id": "02c8b373",
   "metadata": {},
   "outputs": [
    {
     "name": "stdout",
     "output_type": "stream",
     "text": [
      "Best pace : K. Mbappé\n",
      "Best shooting : Cristiano Ronaldo\n",
      "Best passing : K. De Bruyne\n",
      "Best dribbling : L. Messi\n",
      "Best defending : V. van Dijk\n",
      "Best physic : Casemiro\n",
      "Best attacking_crossing : K. De Bruyne\n",
      "Best attacking_finishing : L. Messi\n",
      "Best attacking_heading_accuracy : L. de Jong\n",
      "Best attacking_short_passing : K. De Bruyne\n",
      "Best attacking_volleys : L. Suárez\n",
      "Best skill_dribbling : L. Messi\n",
      "Best skill_curve : Quaresma\n",
      "Best skill_fk_accuracy : L. Messi\n",
      "Best skill_long_passing : K. De Bruyne\n",
      "Best skill_ball_control : L. Messi\n",
      "Best movement_acceleration : Adama Traoré\n",
      "Best movement_sprint_speed : K. Mbappé\n",
      "Best movement_agility : Neymar Jr\n",
      "Best movement_reactions : Cristiano Ronaldo\n",
      "Best movement_balance : E. Oztumer\n",
      "Best power_shot_power : A. Kolarov\n",
      "Best power_jumping : Cristiano Ronaldo\n",
      "Best power_stamina : V. Darida\n",
      "Best power_strength : A. Akinfenwa\n",
      "Best power_long_shots : L. Messi\n"
     ]
    }
   ],
   "source": [
    "\n",
    "# finding the best players for each performance criteria\n",
    "\n",
    "pr_cols=['pace',\n",
    " 'shooting',\n",
    " 'passing',\n",
    " 'dribbling',\n",
    " 'defending',\n",
    " 'physic',\n",
    " 'attacking_crossing',\n",
    " 'attacking_finishing',\n",
    " 'attacking_heading_accuracy',\n",
    " 'attacking_short_passing',\n",
    " 'attacking_volleys',\n",
    " 'skill_dribbling',\n",
    " 'skill_curve',\n",
    " 'skill_fk_accuracy',\n",
    " 'skill_long_passing',\n",
    " 'skill_ball_control',\n",
    "        'movement_acceleration',\n",
    " 'movement_sprint_speed',\n",
    " 'movement_agility',\n",
    " 'movement_reactions',\n",
    " 'movement_balance',\n",
    " 'power_shot_power',\n",
    " 'power_jumping',\n",
    " 'power_stamina',\n",
    " 'power_strength',\n",
    " 'power_long_shots']\n",
    "i=0\n",
    "while i < len(pr_cols):\n",
    "    print('Best {0} : {1}'.format(pr_cols[i],data.loc[data[pr_cols[i]].idxmax()][2]))\n",
    "    i += 1"
   ]
  },
  {
   "cell_type": "code",
   "execution_count": 43,
   "id": "bab587bc",
   "metadata": {},
   "outputs": [],
   "source": [
    "import plotly.express as px"
   ]
  },
  {
   "cell_type": "code",
   "execution_count": 49,
   "id": "6c0a135b",
   "metadata": {},
   "outputs": [
    {
     "name": "stderr",
     "output_type": "stream",
     "text": [
      "C:\\Users\\Patron\\AppData\\Local\\Temp\\ipykernel_11608\\3960021294.py:3: SettingWithCopyWarning:\n",
      "\n",
      "\n",
      "A value is trying to be set on a copy of a slice from a DataFrame\n",
      "\n",
      "See the caveats in the documentation: https://pandas.pydata.org/pandas-docs/stable/user_guide/indexing.html#returning-a-view-versus-a-copy\n",
      "\n"
     ]
    },
    {
     "data": {
      "application/vnd.plotly.v1+json": {
       "config": {
        "plotlyServerURL": "https://plot.ly"
       },
       "data": [
        {
         "customdata": [
          [
           "L. Messi",
           "FC Barcelona"
          ],
          [
           "Cristiano Ronaldo",
           "Juventus"
          ],
          [
           "J. Oblak",
           "Atlético Madrid"
          ],
          [
           "R. Lewandowski",
           "FC Bayern München"
          ],
          [
           "Neymar Jr",
           "Paris Saint-Germain"
          ],
          [
           "K. De Bruyne",
           "Manchester City"
          ],
          [
           "Alisson",
           "Liverpool"
          ],
          [
           "S. Mané",
           "Liverpool"
          ],
          [
           "M. Salah",
           "Liverpool"
          ],
          [
           "V. van Dijk",
           "Liverpool"
          ],
          [
           "M. ter Stegen",
           "FC Barcelona"
          ],
          [
           "K. Mbappé",
           "Paris Saint-Germain"
          ],
          [
           "T. Courtois",
           "Real Madrid"
          ],
          [
           "S. Agüero",
           "Manchester City"
          ],
          [
           "Sergio Ramos",
           "Real Madrid"
          ],
          [
           "K. Benzema",
           "Real Madrid"
          ],
          [
           "M. Neuer",
           "FC Bayern München"
          ],
          [
           "Casemiro",
           "Real Madrid"
          ],
          [
           "S. Handanovič",
           "Inter"
          ],
          [
           "N. Kanté",
           "Chelsea"
          ],
          [
           "K. Koulibaly",
           "Napoli"
          ],
          [
           "E. Hazard",
           "Real Madrid"
          ],
          [
           "T. Kroos",
           "Real Madrid"
          ],
          [
           "Ederson",
           "Manchester City"
          ],
          [
           "P. Dybala",
           "Juventus"
          ],
          [
           "H. Kane",
           "Tottenham Hotspur"
          ],
          [
           "J. Kimmich",
           "FC Bayern München"
          ],
          [
           "R. Sterling",
           "Manchester City"
          ],
          [
           "L. Modrić",
           "Real Madrid"
          ],
          [
           "Roberto Firmino",
           "Liverpool"
          ],
          [
           "H. Son",
           "Tottenham Hotspur"
          ],
          [
           "A. Griezmann",
           "FC Barcelona"
          ],
          [
           "K. Navas",
           "Paris Saint-Germain"
          ],
          [
           "C. Immobile",
           "Lazio"
          ],
          [
           "Sergio Busquets",
           "FC Barcelona"
          ],
          [
           "P. Aubameyang",
           "Arsenal"
          ],
          [
           "A. Di María",
           "Paris Saint-Germain"
          ],
          [
           "W. Szczęsny",
           "Juventus"
          ],
          [
           "L. Suárez",
           "FC Barcelona"
          ],
          [
           "J. Sancho",
           "Borussia Dortmund"
          ],
          [
           "G. Chiellini",
           "Juventus"
          ],
          [
           "Bernardo Silva",
           "Manchester City"
          ],
          [
           "A. Robertson",
           "Liverpool"
          ],
          [
           "Fabinho",
           "Liverpool"
          ],
          [
           "A. Laporte",
           "Manchester City"
          ],
          [
           "Bruno Fernandes",
           "Manchester United"
          ],
          [
           "T. Alexander-Arnold",
           "Liverpool"
          ],
          [
           "H. Lloris",
           "Tottenham Hotspur"
          ],
          [
           "M. Hummels",
           "Borussia Dortmund"
          ],
          [
           "J. Vardy",
           "Leicester City"
          ],
          [
           "Carvajal",
           "Real Madrid"
          ],
          [
           "T. Müller",
           "FC Bayern München"
          ],
          [
           "Jordi Alba",
           "FC Barcelona"
          ],
          [
           "J. Henderson",
           "Liverpool"
          ],
          [
           "De Gea",
           "Manchester United"
          ],
          [
           "Y. Sommer",
           "Borussia Mönchengladbach"
          ],
          [
           "Piqué",
           "FC Barcelona"
          ],
          [
           "A. Gómez",
           "Atalanta"
          ],
          [
           "M. Verratti",
           "Paris Saint-Germain"
          ],
          [
           "P. Pogba",
           "Manchester United"
          ],
          [
           "R. Varane",
           "Real Madrid"
          ],
          [
           "David Silva",
           "Real Sociedad"
          ],
          [
           "M. Reus",
           "Borussia Dortmund"
          ],
          [
           "Thiago Silva",
           "Chelsea"
          ],
          [
           "D. Mertens",
           "Napoli"
          ],
          [
           "M. Pjanić",
           "FC Barcelona"
          ],
          [
           "G. Wijnaldum",
           "Liverpool"
          ],
          [
           "D. Godín",
           "Inter"
          ],
          [
           "T. Alderweireld",
           "Tottenham Hotspur"
          ],
          [
           "P. Gulácsi",
           "RB Leipzig"
          ],
          [
           "C. Eriksen",
           "Inter"
          ],
          [
           "K. Walker",
           "Manchester City"
          ],
          [
           "Thiago",
           "Liverpool"
          ],
          [
           "Parejo",
           "Villarreal CF"
          ],
          [
           "Alex Sandro",
           "Juventus"
          ],
          [
           "Koke",
           "Atlético Madrid"
          ],
          [
           "L. Insigne",
           "Napoli"
          ],
          [
           "R. Mahrez",
           "Manchester City"
          ],
          [
           "M. Icardi",
           "Paris Saint-Germain"
          ],
          [
           "H. Ziyech",
           "Chelsea"
          ],
          [
           "L. Bonucci",
           "Juventus"
          ],
          [
           "Luis Alberto",
           "Lazio"
          ],
          [
           "S. Milinković-Savić",
           "Lazio"
          ],
          [
           "R. Lukaku",
           "Inter"
          ],
          [
           "G. Donnarumma",
           "Milan"
          ],
          [
           "M. de Ligt",
           "Juventus"
          ],
          [
           "M. Rashford",
           "Manchester United"
          ],
          [
           "L. Sané",
           "FC Bayern München"
          ],
          [
           "Marquinhos",
           "Paris Saint-Germain"
          ],
          [
           "C. Lenglet",
           "FC Barcelona"
          ],
          [
           "F. de Jong",
           "FC Barcelona"
          ],
          [
           "M. Škriniar",
           "Inter"
          ],
          [
           "K. Havertz",
           "Chelsea"
          ],
          [
           "Ricardo Pereira",
           "Leicester City"
          ],
          [
           "T. Werner",
           "Chelsea"
          ],
          [
           "Rodri",
           "Manchester City"
          ],
          [
           "B. Leno",
           "Arsenal"
          ],
          [
           "S. Gnabry",
           "FC Bayern München"
          ],
          [
           "M. Depay",
           "Olympique Lyonnais"
          ],
          [
           "A. Witsel",
           "Borussia Dortmund"
          ]
         ],
         "hovertemplate": "age=%{marker.color}<br>overall=%{marker.size}<br>short_name=%{customdata[0]}<br>club_name=%{customdata[1]}<extra></extra>",
         "legendgroup": "",
         "marker": {
          "color": [
           33,
           35,
           27,
           31,
           28,
           29,
           27,
           28,
           28,
           28,
           28,
           21,
           28,
           32,
           34,
           32,
           34,
           28,
           35,
           29,
           29,
           29,
           30,
           26,
           26,
           26,
           25,
           25,
           34,
           28,
           27,
           29,
           33,
           30,
           31,
           31,
           32,
           30,
           33,
           20,
           35,
           25,
           26,
           26,
           26,
           25,
           21,
           33,
           31,
           33,
           28,
           30,
           31,
           30,
           29,
           31,
           33,
           32,
           27,
           27,
           27,
           34,
           31,
           35,
           33,
           30,
           29,
           34,
           31,
           30,
           28,
           30,
           29,
           31,
           29,
           28,
           29,
           29,
           27,
           27,
           33,
           27,
           25,
           27,
           21,
           20,
           22,
           24,
           26,
           25,
           23,
           25,
           21,
           26,
           24,
           24,
           28,
           24,
           26,
           31
          ],
          "coloraxis": "coloraxis",
          "size": [
           93,
           92,
           91,
           91,
           91,
           91,
           90,
           90,
           90,
           90,
           90,
           90,
           89,
           89,
           89,
           89,
           89,
           89,
           88,
           88,
           88,
           88,
           88,
           88,
           88,
           88,
           88,
           88,
           87,
           87,
           87,
           87,
           87,
           87,
           87,
           87,
           87,
           87,
           87,
           87,
           87,
           87,
           87,
           87,
           87,
           87,
           87,
           87,
           86,
           86,
           86,
           86,
           86,
           86,
           86,
           86,
           86,
           86,
           86,
           86,
           86,
           86,
           85,
           85,
           85,
           85,
           85,
           85,
           85,
           85,
           85,
           85,
           85,
           85,
           85,
           85,
           85,
           85,
           85,
           85,
           85,
           85,
           85,
           85,
           85,
           85,
           85,
           85,
           85,
           85,
           85,
           85,
           85,
           85,
           85,
           85,
           85,
           85,
           85,
           84
          ],
          "sizemode": "area",
          "sizeref": 0.2325,
          "symbol": "circle"
         },
         "mode": "markers",
         "name": "",
         "orientation": "v",
         "showlegend": false,
         "type": "scatter",
         "x": [
          33,
          35,
          27,
          31,
          28,
          29,
          27,
          28,
          28,
          28,
          28,
          21,
          28,
          32,
          34,
          32,
          34,
          28,
          35,
          29,
          29,
          29,
          30,
          26,
          26,
          26,
          25,
          25,
          34,
          28,
          27,
          29,
          33,
          30,
          31,
          31,
          32,
          30,
          33,
          20,
          35,
          25,
          26,
          26,
          26,
          25,
          21,
          33,
          31,
          33,
          28,
          30,
          31,
          30,
          29,
          31,
          33,
          32,
          27,
          27,
          27,
          34,
          31,
          35,
          33,
          30,
          29,
          34,
          31,
          30,
          28,
          30,
          29,
          31,
          29,
          28,
          29,
          29,
          27,
          27,
          33,
          27,
          25,
          27,
          21,
          20,
          22,
          24,
          26,
          25,
          23,
          25,
          21,
          26,
          24,
          24,
          28,
          24,
          26,
          31
         ],
         "xaxis": "x",
         "y": [
          93,
          92,
          91,
          91,
          91,
          91,
          90,
          90,
          90,
          90,
          90,
          90,
          89,
          89,
          89,
          89,
          89,
          89,
          88,
          88,
          88,
          88,
          88,
          88,
          88,
          88,
          88,
          88,
          87,
          87,
          87,
          87,
          87,
          87,
          87,
          87,
          87,
          87,
          87,
          87,
          87,
          87,
          87,
          87,
          87,
          87,
          87,
          87,
          86,
          86,
          86,
          86,
          86,
          86,
          86,
          86,
          86,
          86,
          86,
          86,
          86,
          86,
          85,
          85,
          85,
          85,
          85,
          85,
          85,
          85,
          85,
          85,
          85,
          85,
          85,
          85,
          85,
          85,
          85,
          85,
          85,
          85,
          85,
          85,
          85,
          85,
          85,
          85,
          85,
          85,
          85,
          85,
          85,
          85,
          85,
          85,
          85,
          85,
          85,
          84
         ],
         "yaxis": "y"
        }
       ],
       "layout": {
        "coloraxis": {
         "colorbar": {
          "title": {
           "text": "age"
          }
         },
         "colorscale": [
          [
           0,
           "#0d0887"
          ],
          [
           0.1111111111111111,
           "#46039f"
          ],
          [
           0.2222222222222222,
           "#7201a8"
          ],
          [
           0.3333333333333333,
           "#9c179e"
          ],
          [
           0.4444444444444444,
           "#bd3786"
          ],
          [
           0.5555555555555556,
           "#d8576b"
          ],
          [
           0.6666666666666666,
           "#ed7953"
          ],
          [
           0.7777777777777778,
           "#fb9f3a"
          ],
          [
           0.8888888888888888,
           "#fdca26"
          ],
          [
           1,
           "#f0f921"
          ]
         ]
        },
        "legend": {
         "itemsizing": "constant",
         "tracegroupgap": 0
        },
        "template": {
         "data": {
          "bar": [
           {
            "error_x": {
             "color": "#2a3f5f"
            },
            "error_y": {
             "color": "#2a3f5f"
            },
            "marker": {
             "line": {
              "color": "#E5ECF6",
              "width": 0.5
             },
             "pattern": {
              "fillmode": "overlay",
              "size": 10,
              "solidity": 0.2
             }
            },
            "type": "bar"
           }
          ],
          "barpolar": [
           {
            "marker": {
             "line": {
              "color": "#E5ECF6",
              "width": 0.5
             },
             "pattern": {
              "fillmode": "overlay",
              "size": 10,
              "solidity": 0.2
             }
            },
            "type": "barpolar"
           }
          ],
          "carpet": [
           {
            "aaxis": {
             "endlinecolor": "#2a3f5f",
             "gridcolor": "white",
             "linecolor": "white",
             "minorgridcolor": "white",
             "startlinecolor": "#2a3f5f"
            },
            "baxis": {
             "endlinecolor": "#2a3f5f",
             "gridcolor": "white",
             "linecolor": "white",
             "minorgridcolor": "white",
             "startlinecolor": "#2a3f5f"
            },
            "type": "carpet"
           }
          ],
          "choropleth": [
           {
            "colorbar": {
             "outlinewidth": 0,
             "ticks": ""
            },
            "type": "choropleth"
           }
          ],
          "contour": [
           {
            "colorbar": {
             "outlinewidth": 0,
             "ticks": ""
            },
            "colorscale": [
             [
              0,
              "#0d0887"
             ],
             [
              0.1111111111111111,
              "#46039f"
             ],
             [
              0.2222222222222222,
              "#7201a8"
             ],
             [
              0.3333333333333333,
              "#9c179e"
             ],
             [
              0.4444444444444444,
              "#bd3786"
             ],
             [
              0.5555555555555556,
              "#d8576b"
             ],
             [
              0.6666666666666666,
              "#ed7953"
             ],
             [
              0.7777777777777778,
              "#fb9f3a"
             ],
             [
              0.8888888888888888,
              "#fdca26"
             ],
             [
              1,
              "#f0f921"
             ]
            ],
            "type": "contour"
           }
          ],
          "contourcarpet": [
           {
            "colorbar": {
             "outlinewidth": 0,
             "ticks": ""
            },
            "type": "contourcarpet"
           }
          ],
          "heatmap": [
           {
            "colorbar": {
             "outlinewidth": 0,
             "ticks": ""
            },
            "colorscale": [
             [
              0,
              "#0d0887"
             ],
             [
              0.1111111111111111,
              "#46039f"
             ],
             [
              0.2222222222222222,
              "#7201a8"
             ],
             [
              0.3333333333333333,
              "#9c179e"
             ],
             [
              0.4444444444444444,
              "#bd3786"
             ],
             [
              0.5555555555555556,
              "#d8576b"
             ],
             [
              0.6666666666666666,
              "#ed7953"
             ],
             [
              0.7777777777777778,
              "#fb9f3a"
             ],
             [
              0.8888888888888888,
              "#fdca26"
             ],
             [
              1,
              "#f0f921"
             ]
            ],
            "type": "heatmap"
           }
          ],
          "heatmapgl": [
           {
            "colorbar": {
             "outlinewidth": 0,
             "ticks": ""
            },
            "colorscale": [
             [
              0,
              "#0d0887"
             ],
             [
              0.1111111111111111,
              "#46039f"
             ],
             [
              0.2222222222222222,
              "#7201a8"
             ],
             [
              0.3333333333333333,
              "#9c179e"
             ],
             [
              0.4444444444444444,
              "#bd3786"
             ],
             [
              0.5555555555555556,
              "#d8576b"
             ],
             [
              0.6666666666666666,
              "#ed7953"
             ],
             [
              0.7777777777777778,
              "#fb9f3a"
             ],
             [
              0.8888888888888888,
              "#fdca26"
             ],
             [
              1,
              "#f0f921"
             ]
            ],
            "type": "heatmapgl"
           }
          ],
          "histogram": [
           {
            "marker": {
             "pattern": {
              "fillmode": "overlay",
              "size": 10,
              "solidity": 0.2
             }
            },
            "type": "histogram"
           }
          ],
          "histogram2d": [
           {
            "colorbar": {
             "outlinewidth": 0,
             "ticks": ""
            },
            "colorscale": [
             [
              0,
              "#0d0887"
             ],
             [
              0.1111111111111111,
              "#46039f"
             ],
             [
              0.2222222222222222,
              "#7201a8"
             ],
             [
              0.3333333333333333,
              "#9c179e"
             ],
             [
              0.4444444444444444,
              "#bd3786"
             ],
             [
              0.5555555555555556,
              "#d8576b"
             ],
             [
              0.6666666666666666,
              "#ed7953"
             ],
             [
              0.7777777777777778,
              "#fb9f3a"
             ],
             [
              0.8888888888888888,
              "#fdca26"
             ],
             [
              1,
              "#f0f921"
             ]
            ],
            "type": "histogram2d"
           }
          ],
          "histogram2dcontour": [
           {
            "colorbar": {
             "outlinewidth": 0,
             "ticks": ""
            },
            "colorscale": [
             [
              0,
              "#0d0887"
             ],
             [
              0.1111111111111111,
              "#46039f"
             ],
             [
              0.2222222222222222,
              "#7201a8"
             ],
             [
              0.3333333333333333,
              "#9c179e"
             ],
             [
              0.4444444444444444,
              "#bd3786"
             ],
             [
              0.5555555555555556,
              "#d8576b"
             ],
             [
              0.6666666666666666,
              "#ed7953"
             ],
             [
              0.7777777777777778,
              "#fb9f3a"
             ],
             [
              0.8888888888888888,
              "#fdca26"
             ],
             [
              1,
              "#f0f921"
             ]
            ],
            "type": "histogram2dcontour"
           }
          ],
          "mesh3d": [
           {
            "colorbar": {
             "outlinewidth": 0,
             "ticks": ""
            },
            "type": "mesh3d"
           }
          ],
          "parcoords": [
           {
            "line": {
             "colorbar": {
              "outlinewidth": 0,
              "ticks": ""
             }
            },
            "type": "parcoords"
           }
          ],
          "pie": [
           {
            "automargin": true,
            "type": "pie"
           }
          ],
          "scatter": [
           {
            "fillpattern": {
             "fillmode": "overlay",
             "size": 10,
             "solidity": 0.2
            },
            "type": "scatter"
           }
          ],
          "scatter3d": [
           {
            "line": {
             "colorbar": {
              "outlinewidth": 0,
              "ticks": ""
             }
            },
            "marker": {
             "colorbar": {
              "outlinewidth": 0,
              "ticks": ""
             }
            },
            "type": "scatter3d"
           }
          ],
          "scattercarpet": [
           {
            "marker": {
             "colorbar": {
              "outlinewidth": 0,
              "ticks": ""
             }
            },
            "type": "scattercarpet"
           }
          ],
          "scattergeo": [
           {
            "marker": {
             "colorbar": {
              "outlinewidth": 0,
              "ticks": ""
             }
            },
            "type": "scattergeo"
           }
          ],
          "scattergl": [
           {
            "marker": {
             "colorbar": {
              "outlinewidth": 0,
              "ticks": ""
             }
            },
            "type": "scattergl"
           }
          ],
          "scattermapbox": [
           {
            "marker": {
             "colorbar": {
              "outlinewidth": 0,
              "ticks": ""
             }
            },
            "type": "scattermapbox"
           }
          ],
          "scatterpolar": [
           {
            "marker": {
             "colorbar": {
              "outlinewidth": 0,
              "ticks": ""
             }
            },
            "type": "scatterpolar"
           }
          ],
          "scatterpolargl": [
           {
            "marker": {
             "colorbar": {
              "outlinewidth": 0,
              "ticks": ""
             }
            },
            "type": "scatterpolargl"
           }
          ],
          "scatterternary": [
           {
            "marker": {
             "colorbar": {
              "outlinewidth": 0,
              "ticks": ""
             }
            },
            "type": "scatterternary"
           }
          ],
          "surface": [
           {
            "colorbar": {
             "outlinewidth": 0,
             "ticks": ""
            },
            "colorscale": [
             [
              0,
              "#0d0887"
             ],
             [
              0.1111111111111111,
              "#46039f"
             ],
             [
              0.2222222222222222,
              "#7201a8"
             ],
             [
              0.3333333333333333,
              "#9c179e"
             ],
             [
              0.4444444444444444,
              "#bd3786"
             ],
             [
              0.5555555555555556,
              "#d8576b"
             ],
             [
              0.6666666666666666,
              "#ed7953"
             ],
             [
              0.7777777777777778,
              "#fb9f3a"
             ],
             [
              0.8888888888888888,
              "#fdca26"
             ],
             [
              1,
              "#f0f921"
             ]
            ],
            "type": "surface"
           }
          ],
          "table": [
           {
            "cells": {
             "fill": {
              "color": "#EBF0F8"
             },
             "line": {
              "color": "white"
             }
            },
            "header": {
             "fill": {
              "color": "#C8D4E3"
             },
             "line": {
              "color": "white"
             }
            },
            "type": "table"
           }
          ]
         },
         "layout": {
          "annotationdefaults": {
           "arrowcolor": "#2a3f5f",
           "arrowhead": 0,
           "arrowwidth": 1
          },
          "autotypenumbers": "strict",
          "coloraxis": {
           "colorbar": {
            "outlinewidth": 0,
            "ticks": ""
           }
          },
          "colorscale": {
           "diverging": [
            [
             0,
             "#8e0152"
            ],
            [
             0.1,
             "#c51b7d"
            ],
            [
             0.2,
             "#de77ae"
            ],
            [
             0.3,
             "#f1b6da"
            ],
            [
             0.4,
             "#fde0ef"
            ],
            [
             0.5,
             "#f7f7f7"
            ],
            [
             0.6,
             "#e6f5d0"
            ],
            [
             0.7,
             "#b8e186"
            ],
            [
             0.8,
             "#7fbc41"
            ],
            [
             0.9,
             "#4d9221"
            ],
            [
             1,
             "#276419"
            ]
           ],
           "sequential": [
            [
             0,
             "#0d0887"
            ],
            [
             0.1111111111111111,
             "#46039f"
            ],
            [
             0.2222222222222222,
             "#7201a8"
            ],
            [
             0.3333333333333333,
             "#9c179e"
            ],
            [
             0.4444444444444444,
             "#bd3786"
            ],
            [
             0.5555555555555556,
             "#d8576b"
            ],
            [
             0.6666666666666666,
             "#ed7953"
            ],
            [
             0.7777777777777778,
             "#fb9f3a"
            ],
            [
             0.8888888888888888,
             "#fdca26"
            ],
            [
             1,
             "#f0f921"
            ]
           ],
           "sequentialminus": [
            [
             0,
             "#0d0887"
            ],
            [
             0.1111111111111111,
             "#46039f"
            ],
            [
             0.2222222222222222,
             "#7201a8"
            ],
            [
             0.3333333333333333,
             "#9c179e"
            ],
            [
             0.4444444444444444,
             "#bd3786"
            ],
            [
             0.5555555555555556,
             "#d8576b"
            ],
            [
             0.6666666666666666,
             "#ed7953"
            ],
            [
             0.7777777777777778,
             "#fb9f3a"
            ],
            [
             0.8888888888888888,
             "#fdca26"
            ],
            [
             1,
             "#f0f921"
            ]
           ]
          },
          "colorway": [
           "#636efa",
           "#EF553B",
           "#00cc96",
           "#ab63fa",
           "#FFA15A",
           "#19d3f3",
           "#FF6692",
           "#B6E880",
           "#FF97FF",
           "#FECB52"
          ],
          "font": {
           "color": "#2a3f5f"
          },
          "geo": {
           "bgcolor": "white",
           "lakecolor": "white",
           "landcolor": "#E5ECF6",
           "showlakes": true,
           "showland": true,
           "subunitcolor": "white"
          },
          "hoverlabel": {
           "align": "left"
          },
          "hovermode": "closest",
          "mapbox": {
           "style": "light"
          },
          "paper_bgcolor": "white",
          "plot_bgcolor": "#E5ECF6",
          "polar": {
           "angularaxis": {
            "gridcolor": "white",
            "linecolor": "white",
            "ticks": ""
           },
           "bgcolor": "#E5ECF6",
           "radialaxis": {
            "gridcolor": "white",
            "linecolor": "white",
            "ticks": ""
           }
          },
          "scene": {
           "xaxis": {
            "backgroundcolor": "#E5ECF6",
            "gridcolor": "white",
            "gridwidth": 2,
            "linecolor": "white",
            "showbackground": true,
            "ticks": "",
            "zerolinecolor": "white"
           },
           "yaxis": {
            "backgroundcolor": "#E5ECF6",
            "gridcolor": "white",
            "gridwidth": 2,
            "linecolor": "white",
            "showbackground": true,
            "ticks": "",
            "zerolinecolor": "white"
           },
           "zaxis": {
            "backgroundcolor": "#E5ECF6",
            "gridcolor": "white",
            "gridwidth": 2,
            "linecolor": "white",
            "showbackground": true,
            "ticks": "",
            "zerolinecolor": "white"
           }
          },
          "shapedefaults": {
           "line": {
            "color": "#2a3f5f"
           }
          },
          "ternary": {
           "aaxis": {
            "gridcolor": "white",
            "linecolor": "white",
            "ticks": ""
           },
           "baxis": {
            "gridcolor": "white",
            "linecolor": "white",
            "ticks": ""
           },
           "bgcolor": "#E5ECF6",
           "caxis": {
            "gridcolor": "white",
            "linecolor": "white",
            "ticks": ""
           }
          },
          "title": {
           "x": 0.05
          },
          "xaxis": {
           "automargin": true,
           "gridcolor": "white",
           "linecolor": "white",
           "ticks": "",
           "title": {
            "standoff": 15
           },
           "zerolinecolor": "white",
           "zerolinewidth": 2
          },
          "yaxis": {
           "automargin": true,
           "gridcolor": "white",
           "linecolor": "white",
           "ticks": "",
           "title": {
            "standoff": 15
           },
           "zerolinecolor": "white",
           "zerolinewidth": 2
          }
         }
        },
        "title": {
         "text": "Top Football Players in the FIFA 21 game"
        },
        "xaxis": {
         "anchor": "y",
         "domain": [
          0,
          1
         ],
         "title": {
          "text": "age"
         }
        },
        "yaxis": {
         "anchor": "x",
         "domain": [
          0,
          1
         ],
         "title": {
          "text": "overall"
         }
        }
       }
      },
      "text/html": [
       "<div>                            <div id=\"8dea7a8f-11fc-4b97-8219-c2ba634d7406\" class=\"plotly-graph-div\" style=\"height:525px; width:100%;\"></div>            <script type=\"text/javascript\">                require([\"plotly\"], function(Plotly) {                    window.PLOTLYENV=window.PLOTLYENV || {};                                    if (document.getElementById(\"8dea7a8f-11fc-4b97-8219-c2ba634d7406\")) {                    Plotly.newPlot(                        \"8dea7a8f-11fc-4b97-8219-c2ba634d7406\",                        [{\"customdata\":[[\"L. Messi\",\"FC Barcelona\"],[\"Cristiano Ronaldo\",\"Juventus\"],[\"J. Oblak\",\"Atl\\u00e9tico Madrid\"],[\"R. Lewandowski\",\"FC Bayern M\\u00fcnchen\"],[\"Neymar Jr\",\"Paris Saint-Germain\"],[\"K. De Bruyne\",\"Manchester City\"],[\"Alisson\",\"Liverpool\"],[\"S. Man\\u00e9\",\"Liverpool\"],[\"M. Salah\",\"Liverpool\"],[\"V. van Dijk\",\"Liverpool\"],[\"M. ter Stegen\",\"FC Barcelona\"],[\"K. Mbapp\\u00e9\",\"Paris Saint-Germain\"],[\"T. Courtois\",\"Real Madrid\"],[\"S. Ag\\u00fcero\",\"Manchester City\"],[\"Sergio Ramos\",\"Real Madrid\"],[\"K. Benzema\",\"Real Madrid\"],[\"M. Neuer\",\"FC Bayern M\\u00fcnchen\"],[\"Casemiro\",\"Real Madrid\"],[\"S. Handanovi\\u010d\",\"Inter\"],[\"N. Kant\\u00e9\",\"Chelsea\"],[\"K. Koulibaly\",\"Napoli\"],[\"E. Hazard\",\"Real Madrid\"],[\"T. Kroos\",\"Real Madrid\"],[\"Ederson\",\"Manchester City\"],[\"P. Dybala\",\"Juventus\"],[\"H. Kane\",\"Tottenham Hotspur\"],[\"J. Kimmich\",\"FC Bayern M\\u00fcnchen\"],[\"R. Sterling\",\"Manchester City\"],[\"L. Modri\\u0107\",\"Real Madrid\"],[\"Roberto Firmino\",\"Liverpool\"],[\"H. Son\",\"Tottenham Hotspur\"],[\"A. Griezmann\",\"FC Barcelona\"],[\"K. Navas\",\"Paris Saint-Germain\"],[\"C. Immobile\",\"Lazio\"],[\"Sergio Busquets\",\"FC Barcelona\"],[\"P. Aubameyang\",\"Arsenal\"],[\"A. Di Mar\\u00eda\",\"Paris Saint-Germain\"],[\"W. Szcz\\u0119sny\",\"Juventus\"],[\"L. Su\\u00e1rez\",\"FC Barcelona\"],[\"J. Sancho\",\"Borussia Dortmund\"],[\"G. Chiellini\",\"Juventus\"],[\"Bernardo Silva\",\"Manchester City\"],[\"A. Robertson\",\"Liverpool\"],[\"Fabinho\",\"Liverpool\"],[\"A. Laporte\",\"Manchester City\"],[\"Bruno Fernandes\",\"Manchester United\"],[\"T. Alexander-Arnold\",\"Liverpool\"],[\"H. Lloris\",\"Tottenham Hotspur\"],[\"M. Hummels\",\"Borussia Dortmund\"],[\"J. Vardy\",\"Leicester City\"],[\"Carvajal\",\"Real Madrid\"],[\"T. M\\u00fcller\",\"FC Bayern M\\u00fcnchen\"],[\"Jordi Alba\",\"FC Barcelona\"],[\"J. Henderson\",\"Liverpool\"],[\"De Gea\",\"Manchester United\"],[\"Y. Sommer\",\"Borussia M\\u00f6nchengladbach\"],[\"Piqu\\u00e9\",\"FC Barcelona\"],[\"A. G\\u00f3mez\",\"Atalanta\"],[\"M. Verratti\",\"Paris Saint-Germain\"],[\"P. Pogba\",\"Manchester United\"],[\"R. Varane\",\"Real Madrid\"],[\"David Silva\",\"Real Sociedad\"],[\"M. Reus\",\"Borussia Dortmund\"],[\"Thiago Silva\",\"Chelsea\"],[\"D. Mertens\",\"Napoli\"],[\"M. Pjani\\u0107\",\"FC Barcelona\"],[\"G. Wijnaldum\",\"Liverpool\"],[\"D. God\\u00edn\",\"Inter\"],[\"T. Alderweireld\",\"Tottenham Hotspur\"],[\"P. Gul\\u00e1csi\",\"RB Leipzig\"],[\"C. Eriksen\",\"Inter\"],[\"K. Walker\",\"Manchester City\"],[\"Thiago\",\"Liverpool\"],[\"Parejo\",\"Villarreal CF\"],[\"Alex Sandro\",\"Juventus\"],[\"Koke\",\"Atl\\u00e9tico Madrid\"],[\"L. Insigne\",\"Napoli\"],[\"R. Mahrez\",\"Manchester City\"],[\"M. Icardi\",\"Paris Saint-Germain\"],[\"H. Ziyech\",\"Chelsea\"],[\"L. Bonucci\",\"Juventus\"],[\"Luis Alberto\",\"Lazio\"],[\"S. Milinkovi\\u0107-Savi\\u0107\",\"Lazio\"],[\"R. Lukaku\",\"Inter\"],[\"G. Donnarumma\",\"Milan\"],[\"M. de Ligt\",\"Juventus\"],[\"M. Rashford\",\"Manchester United\"],[\"L. San\\u00e9\",\"FC Bayern M\\u00fcnchen\"],[\"Marquinhos\",\"Paris Saint-Germain\"],[\"C. Lenglet\",\"FC Barcelona\"],[\"F. de Jong\",\"FC Barcelona\"],[\"M. \\u0160kriniar\",\"Inter\"],[\"K. Havertz\",\"Chelsea\"],[\"Ricardo Pereira\",\"Leicester City\"],[\"T. Werner\",\"Chelsea\"],[\"Rodri\",\"Manchester City\"],[\"B. Leno\",\"Arsenal\"],[\"S. Gnabry\",\"FC Bayern M\\u00fcnchen\"],[\"M. Depay\",\"Olympique Lyonnais\"],[\"A. Witsel\",\"Borussia Dortmund\"]],\"hovertemplate\":\"age=%{marker.color}<br>overall=%{marker.size}<br>short_name=%{customdata[0]}<br>club_name=%{customdata[1]}<extra></extra>\",\"legendgroup\":\"\",\"marker\":{\"color\":[33,35,27,31,28,29,27,28,28,28,28,21,28,32,34,32,34,28,35,29,29,29,30,26,26,26,25,25,34,28,27,29,33,30,31,31,32,30,33,20,35,25,26,26,26,25,21,33,31,33,28,30,31,30,29,31,33,32,27,27,27,34,31,35,33,30,29,34,31,30,28,30,29,31,29,28,29,29,27,27,33,27,25,27,21,20,22,24,26,25,23,25,21,26,24,24,28,24,26,31],\"coloraxis\":\"coloraxis\",\"size\":[93,92,91,91,91,91,90,90,90,90,90,90,89,89,89,89,89,89,88,88,88,88,88,88,88,88,88,88,87,87,87,87,87,87,87,87,87,87,87,87,87,87,87,87,87,87,87,87,86,86,86,86,86,86,86,86,86,86,86,86,86,86,85,85,85,85,85,85,85,85,85,85,85,85,85,85,85,85,85,85,85,85,85,85,85,85,85,85,85,85,85,85,85,85,85,85,85,85,85,84],\"sizemode\":\"area\",\"sizeref\":0.2325,\"symbol\":\"circle\"},\"mode\":\"markers\",\"name\":\"\",\"orientation\":\"v\",\"showlegend\":false,\"x\":[33,35,27,31,28,29,27,28,28,28,28,21,28,32,34,32,34,28,35,29,29,29,30,26,26,26,25,25,34,28,27,29,33,30,31,31,32,30,33,20,35,25,26,26,26,25,21,33,31,33,28,30,31,30,29,31,33,32,27,27,27,34,31,35,33,30,29,34,31,30,28,30,29,31,29,28,29,29,27,27,33,27,25,27,21,20,22,24,26,25,23,25,21,26,24,24,28,24,26,31],\"xaxis\":\"x\",\"y\":[93,92,91,91,91,91,90,90,90,90,90,90,89,89,89,89,89,89,88,88,88,88,88,88,88,88,88,88,87,87,87,87,87,87,87,87,87,87,87,87,87,87,87,87,87,87,87,87,86,86,86,86,86,86,86,86,86,86,86,86,86,86,85,85,85,85,85,85,85,85,85,85,85,85,85,85,85,85,85,85,85,85,85,85,85,85,85,85,85,85,85,85,85,85,85,85,85,85,85,84],\"yaxis\":\"y\",\"type\":\"scatter\"}],                        {\"template\":{\"data\":{\"histogram2dcontour\":[{\"type\":\"histogram2dcontour\",\"colorbar\":{\"outlinewidth\":0,\"ticks\":\"\"},\"colorscale\":[[0.0,\"#0d0887\"],[0.1111111111111111,\"#46039f\"],[0.2222222222222222,\"#7201a8\"],[0.3333333333333333,\"#9c179e\"],[0.4444444444444444,\"#bd3786\"],[0.5555555555555556,\"#d8576b\"],[0.6666666666666666,\"#ed7953\"],[0.7777777777777778,\"#fb9f3a\"],[0.8888888888888888,\"#fdca26\"],[1.0,\"#f0f921\"]]}],\"choropleth\":[{\"type\":\"choropleth\",\"colorbar\":{\"outlinewidth\":0,\"ticks\":\"\"}}],\"histogram2d\":[{\"type\":\"histogram2d\",\"colorbar\":{\"outlinewidth\":0,\"ticks\":\"\"},\"colorscale\":[[0.0,\"#0d0887\"],[0.1111111111111111,\"#46039f\"],[0.2222222222222222,\"#7201a8\"],[0.3333333333333333,\"#9c179e\"],[0.4444444444444444,\"#bd3786\"],[0.5555555555555556,\"#d8576b\"],[0.6666666666666666,\"#ed7953\"],[0.7777777777777778,\"#fb9f3a\"],[0.8888888888888888,\"#fdca26\"],[1.0,\"#f0f921\"]]}],\"heatmap\":[{\"type\":\"heatmap\",\"colorbar\":{\"outlinewidth\":0,\"ticks\":\"\"},\"colorscale\":[[0.0,\"#0d0887\"],[0.1111111111111111,\"#46039f\"],[0.2222222222222222,\"#7201a8\"],[0.3333333333333333,\"#9c179e\"],[0.4444444444444444,\"#bd3786\"],[0.5555555555555556,\"#d8576b\"],[0.6666666666666666,\"#ed7953\"],[0.7777777777777778,\"#fb9f3a\"],[0.8888888888888888,\"#fdca26\"],[1.0,\"#f0f921\"]]}],\"heatmapgl\":[{\"type\":\"heatmapgl\",\"colorbar\":{\"outlinewidth\":0,\"ticks\":\"\"},\"colorscale\":[[0.0,\"#0d0887\"],[0.1111111111111111,\"#46039f\"],[0.2222222222222222,\"#7201a8\"],[0.3333333333333333,\"#9c179e\"],[0.4444444444444444,\"#bd3786\"],[0.5555555555555556,\"#d8576b\"],[0.6666666666666666,\"#ed7953\"],[0.7777777777777778,\"#fb9f3a\"],[0.8888888888888888,\"#fdca26\"],[1.0,\"#f0f921\"]]}],\"contourcarpet\":[{\"type\":\"contourcarpet\",\"colorbar\":{\"outlinewidth\":0,\"ticks\":\"\"}}],\"contour\":[{\"type\":\"contour\",\"colorbar\":{\"outlinewidth\":0,\"ticks\":\"\"},\"colorscale\":[[0.0,\"#0d0887\"],[0.1111111111111111,\"#46039f\"],[0.2222222222222222,\"#7201a8\"],[0.3333333333333333,\"#9c179e\"],[0.4444444444444444,\"#bd3786\"],[0.5555555555555556,\"#d8576b\"],[0.6666666666666666,\"#ed7953\"],[0.7777777777777778,\"#fb9f3a\"],[0.8888888888888888,\"#fdca26\"],[1.0,\"#f0f921\"]]}],\"surface\":[{\"type\":\"surface\",\"colorbar\":{\"outlinewidth\":0,\"ticks\":\"\"},\"colorscale\":[[0.0,\"#0d0887\"],[0.1111111111111111,\"#46039f\"],[0.2222222222222222,\"#7201a8\"],[0.3333333333333333,\"#9c179e\"],[0.4444444444444444,\"#bd3786\"],[0.5555555555555556,\"#d8576b\"],[0.6666666666666666,\"#ed7953\"],[0.7777777777777778,\"#fb9f3a\"],[0.8888888888888888,\"#fdca26\"],[1.0,\"#f0f921\"]]}],\"mesh3d\":[{\"type\":\"mesh3d\",\"colorbar\":{\"outlinewidth\":0,\"ticks\":\"\"}}],\"scatter\":[{\"fillpattern\":{\"fillmode\":\"overlay\",\"size\":10,\"solidity\":0.2},\"type\":\"scatter\"}],\"parcoords\":[{\"type\":\"parcoords\",\"line\":{\"colorbar\":{\"outlinewidth\":0,\"ticks\":\"\"}}}],\"scatterpolargl\":[{\"type\":\"scatterpolargl\",\"marker\":{\"colorbar\":{\"outlinewidth\":0,\"ticks\":\"\"}}}],\"bar\":[{\"error_x\":{\"color\":\"#2a3f5f\"},\"error_y\":{\"color\":\"#2a3f5f\"},\"marker\":{\"line\":{\"color\":\"#E5ECF6\",\"width\":0.5},\"pattern\":{\"fillmode\":\"overlay\",\"size\":10,\"solidity\":0.2}},\"type\":\"bar\"}],\"scattergeo\":[{\"type\":\"scattergeo\",\"marker\":{\"colorbar\":{\"outlinewidth\":0,\"ticks\":\"\"}}}],\"scatterpolar\":[{\"type\":\"scatterpolar\",\"marker\":{\"colorbar\":{\"outlinewidth\":0,\"ticks\":\"\"}}}],\"histogram\":[{\"marker\":{\"pattern\":{\"fillmode\":\"overlay\",\"size\":10,\"solidity\":0.2}},\"type\":\"histogram\"}],\"scattergl\":[{\"type\":\"scattergl\",\"marker\":{\"colorbar\":{\"outlinewidth\":0,\"ticks\":\"\"}}}],\"scatter3d\":[{\"type\":\"scatter3d\",\"line\":{\"colorbar\":{\"outlinewidth\":0,\"ticks\":\"\"}},\"marker\":{\"colorbar\":{\"outlinewidth\":0,\"ticks\":\"\"}}}],\"scattermapbox\":[{\"type\":\"scattermapbox\",\"marker\":{\"colorbar\":{\"outlinewidth\":0,\"ticks\":\"\"}}}],\"scatterternary\":[{\"type\":\"scatterternary\",\"marker\":{\"colorbar\":{\"outlinewidth\":0,\"ticks\":\"\"}}}],\"scattercarpet\":[{\"type\":\"scattercarpet\",\"marker\":{\"colorbar\":{\"outlinewidth\":0,\"ticks\":\"\"}}}],\"carpet\":[{\"aaxis\":{\"endlinecolor\":\"#2a3f5f\",\"gridcolor\":\"white\",\"linecolor\":\"white\",\"minorgridcolor\":\"white\",\"startlinecolor\":\"#2a3f5f\"},\"baxis\":{\"endlinecolor\":\"#2a3f5f\",\"gridcolor\":\"white\",\"linecolor\":\"white\",\"minorgridcolor\":\"white\",\"startlinecolor\":\"#2a3f5f\"},\"type\":\"carpet\"}],\"table\":[{\"cells\":{\"fill\":{\"color\":\"#EBF0F8\"},\"line\":{\"color\":\"white\"}},\"header\":{\"fill\":{\"color\":\"#C8D4E3\"},\"line\":{\"color\":\"white\"}},\"type\":\"table\"}],\"barpolar\":[{\"marker\":{\"line\":{\"color\":\"#E5ECF6\",\"width\":0.5},\"pattern\":{\"fillmode\":\"overlay\",\"size\":10,\"solidity\":0.2}},\"type\":\"barpolar\"}],\"pie\":[{\"automargin\":true,\"type\":\"pie\"}]},\"layout\":{\"autotypenumbers\":\"strict\",\"colorway\":[\"#636efa\",\"#EF553B\",\"#00cc96\",\"#ab63fa\",\"#FFA15A\",\"#19d3f3\",\"#FF6692\",\"#B6E880\",\"#FF97FF\",\"#FECB52\"],\"font\":{\"color\":\"#2a3f5f\"},\"hovermode\":\"closest\",\"hoverlabel\":{\"align\":\"left\"},\"paper_bgcolor\":\"white\",\"plot_bgcolor\":\"#E5ECF6\",\"polar\":{\"bgcolor\":\"#E5ECF6\",\"angularaxis\":{\"gridcolor\":\"white\",\"linecolor\":\"white\",\"ticks\":\"\"},\"radialaxis\":{\"gridcolor\":\"white\",\"linecolor\":\"white\",\"ticks\":\"\"}},\"ternary\":{\"bgcolor\":\"#E5ECF6\",\"aaxis\":{\"gridcolor\":\"white\",\"linecolor\":\"white\",\"ticks\":\"\"},\"baxis\":{\"gridcolor\":\"white\",\"linecolor\":\"white\",\"ticks\":\"\"},\"caxis\":{\"gridcolor\":\"white\",\"linecolor\":\"white\",\"ticks\":\"\"}},\"coloraxis\":{\"colorbar\":{\"outlinewidth\":0,\"ticks\":\"\"}},\"colorscale\":{\"sequential\":[[0.0,\"#0d0887\"],[0.1111111111111111,\"#46039f\"],[0.2222222222222222,\"#7201a8\"],[0.3333333333333333,\"#9c179e\"],[0.4444444444444444,\"#bd3786\"],[0.5555555555555556,\"#d8576b\"],[0.6666666666666666,\"#ed7953\"],[0.7777777777777778,\"#fb9f3a\"],[0.8888888888888888,\"#fdca26\"],[1.0,\"#f0f921\"]],\"sequentialminus\":[[0.0,\"#0d0887\"],[0.1111111111111111,\"#46039f\"],[0.2222222222222222,\"#7201a8\"],[0.3333333333333333,\"#9c179e\"],[0.4444444444444444,\"#bd3786\"],[0.5555555555555556,\"#d8576b\"],[0.6666666666666666,\"#ed7953\"],[0.7777777777777778,\"#fb9f3a\"],[0.8888888888888888,\"#fdca26\"],[1.0,\"#f0f921\"]],\"diverging\":[[0,\"#8e0152\"],[0.1,\"#c51b7d\"],[0.2,\"#de77ae\"],[0.3,\"#f1b6da\"],[0.4,\"#fde0ef\"],[0.5,\"#f7f7f7\"],[0.6,\"#e6f5d0\"],[0.7,\"#b8e186\"],[0.8,\"#7fbc41\"],[0.9,\"#4d9221\"],[1,\"#276419\"]]},\"xaxis\":{\"gridcolor\":\"white\",\"linecolor\":\"white\",\"ticks\":\"\",\"title\":{\"standoff\":15},\"zerolinecolor\":\"white\",\"automargin\":true,\"zerolinewidth\":2},\"yaxis\":{\"gridcolor\":\"white\",\"linecolor\":\"white\",\"ticks\":\"\",\"title\":{\"standoff\":15},\"zerolinecolor\":\"white\",\"automargin\":true,\"zerolinewidth\":2},\"scene\":{\"xaxis\":{\"backgroundcolor\":\"#E5ECF6\",\"gridcolor\":\"white\",\"linecolor\":\"white\",\"showbackground\":true,\"ticks\":\"\",\"zerolinecolor\":\"white\",\"gridwidth\":2},\"yaxis\":{\"backgroundcolor\":\"#E5ECF6\",\"gridcolor\":\"white\",\"linecolor\":\"white\",\"showbackground\":true,\"ticks\":\"\",\"zerolinecolor\":\"white\",\"gridwidth\":2},\"zaxis\":{\"backgroundcolor\":\"#E5ECF6\",\"gridcolor\":\"white\",\"linecolor\":\"white\",\"showbackground\":true,\"ticks\":\"\",\"zerolinecolor\":\"white\",\"gridwidth\":2}},\"shapedefaults\":{\"line\":{\"color\":\"#2a3f5f\"}},\"annotationdefaults\":{\"arrowcolor\":\"#2a3f5f\",\"arrowhead\":0,\"arrowwidth\":1},\"geo\":{\"bgcolor\":\"white\",\"landcolor\":\"#E5ECF6\",\"subunitcolor\":\"white\",\"showland\":true,\"showlakes\":true,\"lakecolor\":\"white\"},\"title\":{\"x\":0.05},\"mapbox\":{\"style\":\"light\"}}},\"xaxis\":{\"anchor\":\"y\",\"domain\":[0.0,1.0],\"title\":{\"text\":\"age\"}},\"yaxis\":{\"anchor\":\"x\",\"domain\":[0.0,1.0],\"title\":{\"text\":\"overall\"}},\"coloraxis\":{\"colorbar\":{\"title\":{\"text\":\"age\"}},\"colorscale\":[[0.0,\"#0d0887\"],[0.1111111111111111,\"#46039f\"],[0.2222222222222222,\"#7201a8\"],[0.3333333333333333,\"#9c179e\"],[0.4444444444444444,\"#bd3786\"],[0.5555555555555556,\"#d8576b\"],[0.6666666666666666,\"#ed7953\"],[0.7777777777777778,\"#fb9f3a\"],[0.8888888888888888,\"#fdca26\"],[1.0,\"#f0f921\"]]},\"legend\":{\"tracegroupgap\":0,\"itemsizing\":\"constant\"},\"title\":{\"text\":\"Top Football Players in the FIFA 21 game\"}},                        {\"responsive\": true}                    ).then(function(){\n",
       "                            \n",
       "var gd = document.getElementById('8dea7a8f-11fc-4b97-8219-c2ba634d7406');\n",
       "var x = new MutationObserver(function (mutations, observer) {{\n",
       "        var display = window.getComputedStyle(gd).display;\n",
       "        if (!display || display === 'none') {{\n",
       "            console.log([gd, 'removed!']);\n",
       "            Plotly.purge(gd);\n",
       "            observer.disconnect();\n",
       "        }}\n",
       "}});\n",
       "\n",
       "// Listen for the removal of the full notebook cells\n",
       "var notebookContainer = gd.closest('#notebook-container');\n",
       "if (notebookContainer) {{\n",
       "    x.observe(notebookContainer, {childList: true});\n",
       "}}\n",
       "\n",
       "// Listen for the clearing of the current output cell\n",
       "var outputEl = gd.closest('.output');\n",
       "if (outputEl) {{\n",
       "    x.observe(outputEl, {childList: true});\n",
       "}}\n",
       "\n",
       "                        })                };                });            </script>        </div>"
      ]
     },
     "metadata": {},
     "output_type": "display_data"
    }
   ],
   "source": [
    "#Top Football Players in the FIFA 21 game\n",
    "top_play=data[['short_name','overall',\"age\",'club_name']]\n",
    "top_play.sort_values(by='overall',ascending=False,inplace=True)\n",
    "top_30_play=top_play[:100]\n",
    "fig=px.scatter(top_30_play,x='age',y='overall',color='age',size='overall',hover_data=['short_name','club_name'],title='Top Football Players in the FIFA 21 game')\n",
    "fig.show()"
   ]
  },
  {
   "cell_type": "code",
   "execution_count": null,
   "id": "46b10ca9",
   "metadata": {},
   "outputs": [],
   "source": []
  },
  {
   "cell_type": "code",
   "execution_count": null,
   "id": "2313873d",
   "metadata": {},
   "outputs": [],
   "source": []
  }
 ],
 "metadata": {
  "kernelspec": {
   "display_name": "Python 3 (ipykernel)",
   "language": "python",
   "name": "python3"
  },
  "language_info": {
   "codemirror_mode": {
    "name": "ipython",
    "version": 3
   },
   "file_extension": ".py",
   "mimetype": "text/x-python",
   "name": "python",
   "nbconvert_exporter": "python",
   "pygments_lexer": "ipython3",
   "version": "3.11.4"
  }
 },
 "nbformat": 4,
 "nbformat_minor": 5
}
